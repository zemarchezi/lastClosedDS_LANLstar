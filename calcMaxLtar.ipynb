{
 "cells": [
  {
   "cell_type": "code",
   "execution_count": 6,
   "metadata": {},
   "outputs": [
    {
     "name": "stderr",
     "output_type": "stream",
     "text": [
      "Error in sys.excepthook:\n",
      "Traceback (most recent call last):\n",
      "  File \"/home/jose/python_projects/lastClosedDS_LANLstar/venv/lib/python3.10/site-packages/IPython/core/interactiveshell.py\", line 1958, in showtraceback\n",
      "    stb = value._render_traceback_()\n",
      "AttributeError: 'RuntimeError' object has no attribute '_render_traceback_'\n",
      "\n",
      "During handling of the above exception, another exception occurred:\n",
      "\n",
      "Traceback (most recent call last):\n",
      "  File \"/home/jose/python_projects/lastClosedDS_LANLstar/venv/lib/python3.10/site-packages/IPython/core/interactiveshell.py\", line 1960, in showtraceback\n",
      "    stb = self.InteractiveTB.structured_traceback(etype,\n",
      "  File \"/home/jose/python_projects/lastClosedDS_LANLstar/venv/lib/python3.10/site-packages/IPython/core/ultratb.py\", line 1105, in structured_traceback\n",
      "    return FormattedTB.structured_traceback(\n",
      "  File \"/home/jose/python_projects/lastClosedDS_LANLstar/venv/lib/python3.10/site-packages/IPython/core/ultratb.py\", line 999, in structured_traceback\n",
      "    return VerboseTB.structured_traceback(\n",
      "  File \"/home/jose/python_projects/lastClosedDS_LANLstar/venv/lib/python3.10/site-packages/IPython/core/ultratb.py\", line 851, in structured_traceback\n",
      "    assert etb is not None\n",
      "AssertionError\n",
      "\n",
      "Original exception was:\n",
      "RuntimeError: module compiled against API version 0xf but this version of numpy is 0xe\n"
     ]
    },
    {
     "ename": "ImportError",
     "evalue": "numpy.core.multiarray failed to import",
     "output_type": "error",
     "traceback": [
      "\u001b[0;31m---------------------------------------------------------------------------\u001b[0m",
      "\u001b[0;31mImportError\u001b[0m                               Traceback (most recent call last)",
      "\u001b[1;32m/home/jose/python_projects/lastClosedDS_LANLstar/calcMaxLtar.ipynb Cell 1'\u001b[0m in \u001b[0;36m<cell line: 2>\u001b[0;34m()\u001b[0m\n\u001b[1;32m      <a href='vscode-notebook-cell:/home/jose/python_projects/lastClosedDS_LANLstar/calcMaxLtar.ipynb#ch0000000?line=0'>1</a>\u001b[0m \u001b[39mimport\u001b[39;00m \u001b[39mpytz\u001b[39;00m\n\u001b[0;32m----> <a href='vscode-notebook-cell:/home/jose/python_projects/lastClosedDS_LANLstar/calcMaxLtar.ipynb#ch0000000?line=1'>2</a>\u001b[0m \u001b[39mimport\u001b[39;00m \u001b[39mspacepy\u001b[39;00m\u001b[39m.\u001b[39;00m\u001b[39mirbempy\u001b[39;00m \u001b[39mas\u001b[39;00m \u001b[39mib\u001b[39;00m\n\u001b[1;32m      <a href='vscode-notebook-cell:/home/jose/python_projects/lastClosedDS_LANLstar/calcMaxLtar.ipynb#ch0000000?line=2'>3</a>\u001b[0m \u001b[39mimport\u001b[39;00m \u001b[39mspacepy\u001b[39;00m\u001b[39m.\u001b[39;00m\u001b[39mtime\u001b[39;00m \u001b[39mas\u001b[39;00m \u001b[39mspt\u001b[39;00m\n\u001b[1;32m      <a href='vscode-notebook-cell:/home/jose/python_projects/lastClosedDS_LANLstar/calcMaxLtar.ipynb#ch0000000?line=3'>4</a>\u001b[0m \u001b[39mimport\u001b[39;00m \u001b[39mspacepy\u001b[39;00m\u001b[39m.\u001b[39;00m\u001b[39mLANLstar\u001b[39;00m \u001b[39mas\u001b[39;00m \u001b[39msl\u001b[39;00m\n",
      "File \u001b[0;32m~/python_projects/lastClosedDS_LANLstar/venv/lib/python3.10/site-packages/spacepy/irbempy/__init__.py:71\u001b[0m, in \u001b[0;36m<module>\u001b[0;34m\u001b[0m\n\u001b[1;32m      <a href='file:///~/python_projects/lastClosedDS_LANLstar/venv/lib/python3.10/site-packages/spacepy/irbempy/__init__.py?line=0'>1</a>\u001b[0m \u001b[39m# -*- coding: utf-8 -*-\u001b[39;00m\n\u001b[1;32m      <a href='file:///~/python_projects/lastClosedDS_LANLstar/venv/lib/python3.10/site-packages/spacepy/irbempy/__init__.py?line=2'>3</a>\u001b[0m \u001b[39m\"\"\"\u001b[39;00m\n\u001b[1;32m      <a href='file:///~/python_projects/lastClosedDS_LANLstar/venv/lib/python3.10/site-packages/spacepy/irbempy/__init__.py?line=3'>4</a>\u001b[0m \u001b[39mmodule wrapper for irbem_lib\u001b[39;00m\n\u001b[1;32m      <a href='file:///~/python_projects/lastClosedDS_LANLstar/venv/lib/python3.10/site-packages/spacepy/irbempy/__init__.py?line=4'>5</a>\u001b[0m \u001b[39mReference for this library\u001b[39;00m\n\u001b[0;32m   (...)\u001b[0m\n\u001b[1;32m     <a href='file:///~/python_projects/lastClosedDS_LANLstar/venv/lib/python3.10/site-packages/spacepy/irbempy/__init__.py?line=66'>67</a>\u001b[0m \u001b[39mCopyright 2010 Los Alamos National Security, LLC.\u001b[39;00m\n\u001b[1;32m     <a href='file:///~/python_projects/lastClosedDS_LANLstar/venv/lib/python3.10/site-packages/spacepy/irbempy/__init__.py?line=67'>68</a>\u001b[0m \u001b[39m\"\"\"\u001b[39;00m\n\u001b[0;32m---> <a href='file:///~/python_projects/lastClosedDS_LANLstar/venv/lib/python3.10/site-packages/spacepy/irbempy/__init__.py?line=70'>71</a>\u001b[0m \u001b[39mfrom\u001b[39;00m \u001b[39m.\u001b[39;00m\u001b[39mirbempy\u001b[39;00m \u001b[39mimport\u001b[39;00m \u001b[39m*\u001b[39m\n",
      "File \u001b[0;32m~/python_projects/lastClosedDS_LANLstar/venv/lib/python3.10/site-packages/spacepy/irbempy/irbempy.py:30\u001b[0m, in \u001b[0;36m<module>\u001b[0;34m\u001b[0m\n\u001b[1;32m     <a href='file:///~/python_projects/lastClosedDS_LANLstar/venv/lib/python3.10/site-packages/spacepy/irbempy/irbempy.py?line=27'>28</a>\u001b[0m \u001b[39mimport\u001b[39;00m \u001b[39mspacepy\u001b[39;00m\u001b[39m.\u001b[39;00m\u001b[39mcoordinates\u001b[39;00m \u001b[39mas\u001b[39;00m \u001b[39mspc\u001b[39;00m\n\u001b[1;32m     <a href='file:///~/python_projects/lastClosedDS_LANLstar/venv/lib/python3.10/site-packages/spacepy/irbempy/irbempy.py?line=28'>29</a>\u001b[0m \u001b[39mimport\u001b[39;00m \u001b[39mspacepy\u001b[39;00m\u001b[39m.\u001b[39;00m\u001b[39mdatamodel\u001b[39;00m \u001b[39mas\u001b[39;00m \u001b[39mdm\u001b[39;00m\n\u001b[0;32m---> <a href='file:///~/python_projects/lastClosedDS_LANLstar/venv/lib/python3.10/site-packages/spacepy/irbempy/irbempy.py?line=29'>30</a>\u001b[0m \u001b[39mfrom\u001b[39;00m \u001b[39m.\u001b[39;00m \u001b[39mimport\u001b[39;00m irbempylib \u001b[39mas\u001b[39;00m oplib\n\u001b[1;32m     <a href='file:///~/python_projects/lastClosedDS_LANLstar/venv/lib/python3.10/site-packages/spacepy/irbempy/irbempy.py?line=30'>31</a>\u001b[0m \u001b[39mimport\u001b[39;00m \u001b[39mspacepy\u001b[39;00m\u001b[39m.\u001b[39;00m\u001b[39mtoolbox\u001b[39;00m \u001b[39mas\u001b[39;00m \u001b[39mtb\u001b[39;00m\n\u001b[1;32m     <a href='file:///~/python_projects/lastClosedDS_LANLstar/venv/lib/python3.10/site-packages/spacepy/irbempy/irbempy.py?line=32'>33</a>\u001b[0m \u001b[39m#check whether TS07_DATA_PATH is set, if not then set to spacepy's installed data directory\u001b[39;00m\n",
      "\u001b[0;31mImportError\u001b[0m: numpy.core.multiarray failed to import"
     ]
    }
   ],
   "source": [
    "\n",
    "import pytz\n",
    "import spacepy.irbempy as ib\n",
    "import spacepy.time as spt\n",
    "import spacepy.LANLstar as sl\n",
    "from spacepy import radbelt as rb\n",
    "import datetime as dt\n",
    "import spacepy.time as spt\n",
    "import spacepy.omni as om\n",
    "import numpy as np\n",
    "from pysatdata.loaders.load import *\n",
    "import datetime\n",
    "from download_kp import down_kp\n",
    "import pandas as pd\n",
    "import matplotlib.pyplot as plt\n",
    "import json\n",
    "from scipy import interpolate as interp\n",
    "# import numba\n",
    "# from numba import jit"
   ]
  },
  {
   "cell_type": "code",
   "execution_count": 3,
   "metadata": {},
   "outputs": [],
   "source": []
  },
  {
   "cell_type": "code",
   "execution_count": 2,
   "metadata": {},
   "outputs": [],
   "source": [
    "stringInstant = '2014-04-07'\n",
    "\n",
    "# stringInstant = dataT.index[0].split(\" \")[0]\n",
    "instDate = datetime.datetime.strptime(stringInstant, '%Y-%m-%d')\n",
    "\n",
    "\n",
    "inidate = instDate - datetime.timedelta(days = 1)\n",
    "enddate = instDate + datetime.timedelta(days = 1)\n",
    "trange0 = [inidate.strftime('%Y-%m-%d'), enddate.strftime('%Y-%m-%d')]\n",
    "trange= [(inidate - datetime.timedelta(days = 1)).strftime('%Y-%m-%d'),\n",
    "         (enddate + datetime.timedelta(days = 1)).strftime('%Y-%m-%d')]\n",
    "\n",
    "config_file_sat = '/home/jose/python_projects/pySatData/pysatdata/resources/config_file.json'\n",
    "\n",
    "lshellOrlStar = 'L-Star'\n",
    "probe = 'a'"
   ]
  },
  {
   "cell_type": "code",
   "execution_count": 3,
   "metadata": {},
   "outputs": [
    {
     "name": "stderr",
     "output_type": "stream",
     "text": [
      "2022-03-03 13:43:57.562 | INFO     | pysatdata.loaders.load:load_sat:49 - Local Download Path: /home/jose/sat_data/omni\n",
      "2022-03-03 13:43:57.564 | WARNING  | pysatdata.loaders.load:load_sat:54 - Selecting the sub path key\n",
      "2022-03-03 13:43:57.565 | INFO     | pysatdata.utils.library_functions:testRemoteDir:233 - Testing Connection\n",
      "2022-03-03 13:43:58.155 | WARNING  | pysatdata.utils.library_functions:testRemoteDir:239 - Using https://spdf.gsfc.nasa.gov/pub/data/omni/...\n",
      "2022-03-03 13:43:58.157 | INFO     | pysatdata.loaders.load:load_sat:58 - Remotepath: https://spdf.gsfc.nasa.gov/pub/data/omni/\n",
      "2022-03-03 13:43:58.157 | INFO     | pysatdata.loaders.load:load_sat:69 - Remote_file_path: omni_cdaweb/hro_1min/%Y/omni_hro_1min_%Y%m01_v*.cdf\n",
      "2022-03-03 13:43:58.170 | INFO     | pysatdata.utils.download:download:213 - Downloading remote index: https://spdf.gsfc.nasa.gov/pub/data/omni/omni_cdaweb/hro_1min/2014/\n",
      "2022-03-03 13:43:58.964 | INFO     | pysatdata.utils.download:download_file:72 - File is current: /home/jose/sat_data/omni/omni_cdaweb/hro_1min/2014/omni_hro_1min_20140301_v01.cdf\n",
      "2022-03-03 13:43:59.586 | INFO     | pysatdata.utils.download:download_file:72 - File is current: /home/jose/sat_data/omni/omni_cdaweb/hro_1min/2014/omni_hro_1min_20140401_v01.cdf\n",
      "/home/jose/python_projects/lastClosedDS_LANLstar/venv/lib/python3.10/site-packages/erfa/core.py:154: ErfaWarning: ERFA function \"dtf2d\" yielded 1 of \"dubious year (Note 6)\"\n",
      "  warnings.warn('ERFA function \"{}\" yielded {}'.format(func_name, wmsg),\n"
     ]
    }
   ],
   "source": [
    "pytplot.del_data()\n",
    "varss_aceSwe = load_sat(trange=trange, satellite='omni',\n",
    "                    probe=['omni'], rel='rel03',\n",
    "                    instrument='omni_cdaweb',datatype='hro_1min',\n",
    "                    config_file=config_file_sat, downloadonly=False,\n",
    "                    usePandas=True, usePyTplot=False)\n",
    "\n",
    "quants_Swe = pytplot.data_quants['proton_density']\n",
    "time_swe = quants_Swe.coords['time'].values\n",
    "time_dt_swe = [datetime.datetime.fromtimestamp(i, pytz.timezone(\"UTC\")) for i in time_swe]\n",
    "nP = pytplot.data_quants['proton_density'].values\n",
    "bgse_x = pytplot.data_quants['BX_GSE'].values\n",
    "bgse_y = pytplot.data_quants['BY_GSE'].values\n",
    "bgse_z = pytplot.data_quants['BZ_GSE'].values\n",
    "b_total = pytplot.data_quants['F'].values\n",
    "flow_speed = pytplot.data_quants['flow_speed'].values\n",
    "imf = pytplot.data_quants['IMF'].values\n",
    "ae_index = pytplot.data_quants['AE_INDEX'].values\n",
    "symH_index = pytplot.data_quants['SYM_H'].values\n",
    "\n",
    "\n",
    "varss_aceSwe.index = pd.to_datetime(time_dt_swe)\n"
   ]
  },
  {
   "cell_type": "code",
   "execution_count": 69,
   "metadata": {},
   "outputs": [],
   "source": [
    "doys = [x.strftime('%j') for x in varss_aceSwe.index]\n",
    "housr = [((x.hour * 60) + x.minute) / 60 for x in  varss_aceSwe.index]\n",
    "varss_aceSwe['DOY'] = doys\n",
    "varss_aceSwe['HRS'] = housr"
   ]
  },
  {
   "cell_type": "code",
   "execution_count": 6,
   "metadata": {},
   "outputs": [
    {
     "name": "stderr",
     "output_type": "stream",
     "text": [
      "2022-03-03 13:44:35.139 | INFO     | pysatdata.loaders.load:load_sat:49 - Local Download Path: /home/jose/sat_data/rbsp\n",
      "2022-03-03 13:44:35.140 | WARNING  | pysatdata.loaders.load:load_sat:54 - Selecting the sub path key\n",
      "2022-03-03 13:44:35.141 | INFO     | pysatdata.utils.library_functions:testRemoteDir:233 - Testing Connection\n",
      "2022-03-03 13:44:35.796 | WARNING  | pysatdata.utils.library_functions:testRemoteDir:239 - Using https://spdf.gsfc.nasa.gov/pub/data/rbsp/...\n",
      "2022-03-03 13:44:35.800 | INFO     | pysatdata.loaders.load:load_sat:58 - Remotepath: https://spdf.gsfc.nasa.gov/pub/data/rbsp/\n",
      "2022-03-03 13:44:35.802 | INFO     | pysatdata.loaders.load:load_sat:69 - Remote_file_path: rbspa/l3/ect/rept/sectors/rel03/%Y/rbspa_rel03_ect-rept-sci-l3_%Y%m%d_v*.cdf\n",
      "2022-03-03 13:44:35.804 | INFO     | pysatdata.utils.download:download:213 - Downloading remote index: https://spdf.gsfc.nasa.gov/pub/data/rbsp/rbspa/l3/ect/rept/sectors/rel03/2014/\n",
      "2022-03-03 13:44:37.215 | INFO     | pysatdata.utils.download:download_file:72 - File is current: /home/jose/sat_data/rbsp/rbspa/l3/ect/rept/sectors/rel03/2014/rbspa_rel03_ect-rept-sci-l3_20140331_v5.0.0.cdf\n",
      "2022-03-03 13:44:37.844 | INFO     | pysatdata.utils.download:download_file:72 - File is current: /home/jose/sat_data/rbsp/rbspa/l3/ect/rept/sectors/rel03/2014/rbspa_rel03_ect-rept-sci-l3_20140401_v5.0.0.cdf\n",
      "2022-03-03 13:44:38.467 | INFO     | pysatdata.utils.download:download_file:72 - File is current: /home/jose/sat_data/rbsp/rbspa/l3/ect/rept/sectors/rel03/2014/rbspa_rel03_ect-rept-sci-l3_20140402_v5.0.0.cdf\n",
      "2022-03-03 13:44:39.101 | INFO     | pysatdata.utils.download:download_file:72 - File is current: /home/jose/sat_data/rbsp/rbspa/l3/ect/rept/sectors/rel03/2014/rbspa_rel03_ect-rept-sci-l3_20140403_v5.0.0.cdf\n",
      "2022-03-03 13:44:39.705 | INFO     | pysatdata.utils.download:download_file:72 - File is current: /home/jose/sat_data/rbsp/rbspa/l3/ect/rept/sectors/rel03/2014/rbspa_rel03_ect-rept-sci-l3_20140404_v5.0.0.cdf\n",
      "2022-03-03 13:44:40.346 | INFO     | pysatdata.utils.download:download_file:72 - File is current: /home/jose/sat_data/rbsp/rbspa/l3/ect/rept/sectors/rel03/2014/rbspa_rel03_ect-rept-sci-l3_20140405_v5.0.0.cdf\n",
      "2022-03-03 13:44:40.984 | INFO     | pysatdata.utils.download:download_file:72 - File is current: /home/jose/sat_data/rbsp/rbspa/l3/ect/rept/sectors/rel03/2014/rbspa_rel03_ect-rept-sci-l3_20140406_v5.0.0.cdf\n",
      "2022-03-03 13:44:41.643 | INFO     | pysatdata.utils.download:download_file:72 - File is current: /home/jose/sat_data/rbsp/rbspa/l3/ect/rept/sectors/rel03/2014/rbspa_rel03_ect-rept-sci-l3_20140407_v5.0.0.cdf\n",
      "2022-03-03 13:44:42.252 | INFO     | pysatdata.utils.download:download_file:72 - File is current: /home/jose/sat_data/rbsp/rbspa/l3/ect/rept/sectors/rel03/2014/rbspa_rel03_ect-rept-sci-l3_20140408_v5.0.0.cdf\n",
      "2022-03-03 13:44:42.889 | INFO     | pysatdata.utils.download:download_file:72 - File is current: /home/jose/sat_data/rbsp/rbspa/l3/ect/rept/sectors/rel03/2014/rbspa_rel03_ect-rept-sci-l3_20140409_v5.0.0.cdf\n",
      "2022-03-03 13:44:43.511 | INFO     | pysatdata.utils.download:download_file:72 - File is current: /home/jose/sat_data/rbsp/rbspa/l3/ect/rept/sectors/rel03/2014/rbspa_rel03_ect-rept-sci-l3_20140410_v5.0.0.cdf\n",
      "2022-03-03 13:44:44.145 | INFO     | pysatdata.utils.download:download_file:72 - File is current: /home/jose/sat_data/rbsp/rbspa/l3/ect/rept/sectors/rel03/2014/rbspa_rel03_ect-rept-sci-l3_20140411_v5.0.0.cdf\n",
      "2022-03-03 13:44:44.784 | INFO     | pysatdata.utils.download:download_file:72 - File is current: /home/jose/sat_data/rbsp/rbspa/l3/ect/rept/sectors/rel03/2014/rbspa_rel03_ect-rept-sci-l3_20140412_v5.0.0.cdf\n",
      "2022-03-03 13:44:45.396 | INFO     | pysatdata.utils.download:download_file:72 - File is current: /home/jose/sat_data/rbsp/rbspa/l3/ect/rept/sectors/rel03/2014/rbspa_rel03_ect-rept-sci-l3_20140413_v5.0.0.cdf\n"
     ]
    }
   ],
   "source": [
    "pytplot.del_data()\n",
    "varss_rept = load_sat(trange=trange, satellite='rbsp',\n",
    "                    probe=[probe], level='3', \n",
    "                    rel='rel03', instrument='rept',\n",
    "                    datatype='sectors',varnames=['FEDU', 'L_star', 'L'],\n",
    "                    config_file=config_file_sat, downloadonly=False, \n",
    "                    usePandas=False, usePyTplot=True)\n",
    "quants_fedu_rept = pytplot.data_quants['FEDU']\n",
    "l_star = pytplot.data_quants['L_star'].values\n",
    "l_m = pytplot.data_quants['L'].values"
   ]
  },
  {
   "cell_type": "code",
   "execution_count": 7,
   "metadata": {},
   "outputs": [],
   "source": [
    "time_rept = quants_fedu_rept.coords['time'].values\n",
    "time_dt_rept = [datetime.datetime.fromtimestamp(i, pytz.timezone(\"UTC\")) for i in time_rept]\n",
    "df_rept = pd.DataFrame(l_star, index=time_dt_rept, columns=['L-Star'])"
   ]
  },
  {
   "cell_type": "code",
   "execution_count": 67,
   "metadata": {},
   "outputs": [
    {
     "name": "stdout",
     "output_type": "stream",
     "text": [
      "Kp_ap_2014.txt\n",
      "Kp_ap_2014.txt already at: ./data_KP/\n"
     ]
    }
   ],
   "source": [
    "kpDf = down_kp(datetime.datetime.strptime(trange[0], '%Y-%m-%d'), datetime.datetime.strptime(trange[1], '%Y-%m-%d'),\n",
    "                 dataPath='./data_KP/', downloadData=1)\n",
    "fls = interp.interp1d((np.arange(0, len(kpDf['Kp'].values))), kpDf['Kp'].values, bounds_error=False)\n",
    "lsnewy = np.linspace(0, len(kpDf['Kp'].values), len(varss_aceSwe.index))\n",
    "kp_intep = fls(lsnewy)\n",
    "varss_aceSwe['Kp'] = kp_intep"
   ]
  },
  {
   "cell_type": "code",
   "execution_count": 85,
   "metadata": {},
   "outputs": [
    {
     "data": {
      "text/plain": [
       "Index(['IMF', 'PLS', 'IMF_PTS', 'PLS_PTS', 'percent_interp', 'Timeshift',\n",
       "       'RMS_Timeshift', 'RMS_phase', 'Time_btwn_obs', 'F', 'BX_GSE', 'BY_GSE',\n",
       "       'BZ_GSE', 'BY_GSM', 'BZ_GSM', 'RMS_SD_B', 'RMS_SD_fld_vec',\n",
       "       'flow_speed', 'Vx', 'Vy', 'Vz', 'proton_density', 'T', 'Pressure', 'E',\n",
       "       'Beta', 'Mach_num', 'Mgs_mach_num', 'x', 'y', 'z', 'BSN_x', 'BSN_y',\n",
       "       'BSN_z', 'AE_INDEX', 'AL_INDEX', 'AU_INDEX', 'SYM_D', 'SYM_H', 'ASY_D',\n",
       "       'ASY_H', 'PC_N_INDEX', 'DOY', 'Kp', 'HRS'],\n",
       "      dtype='object')"
      ]
     },
     "execution_count": 85,
     "metadata": {},
     "output_type": "execute_result"
    }
   ],
   "source": [
    "varss_aceSwe.columns"
   ]
  },
  {
   "cell_type": "code",
   "execution_count": 86,
   "metadata": {},
   "outputs": [
    {
     "ename": "KeyboardInterrupt",
     "evalue": "",
     "output_type": "error",
     "traceback": [
      "\u001b[0;31m---------------------------------------------------------------------------\u001b[0m",
      "\u001b[0;31mKeyboardInterrupt\u001b[0m                         Traceback (most recent call last)",
      "\u001b[1;32m/home/jose/python_projects/lastClosedDS_LANLstar/calcMaxLtar.ipynb Cell 9'\u001b[0m in \u001b[0;36m<cell line: 2>\u001b[0;34m()\u001b[0m\n\u001b[1;32m      <a href='vscode-notebook-cell:/home/jose/python_projects/lastClosedDS_LANLstar/calcMaxLtar.ipynb#ch0000008?line=0'>1</a>\u001b[0m outs \u001b[39m=\u001b[39m []\n\u001b[1;32m      <a href='vscode-notebook-cell:/home/jose/python_projects/lastClosedDS_LANLstar/calcMaxLtar.ipynb#ch0000008?line=1'>2</a>\u001b[0m \u001b[39mfor\u001b[39;00m i \u001b[39min\u001b[39;00m \u001b[39mrange\u001b[39m(varss_aceSwe\u001b[39m.\u001b[39mshape[\u001b[39m0\u001b[39m]):\n\u001b[1;32m      <a href='vscode-notebook-cell:/home/jose/python_projects/lastClosedDS_LANLstar/calcMaxLtar.ipynb#ch0000008?line=2'>3</a>\u001b[0m     dat \u001b[39m=\u001b[39m {\n\u001b[0;32m----> <a href='vscode-notebook-cell:/home/jose/python_projects/lastClosedDS_LANLstar/calcMaxLtar.ipynb#ch0000008?line=3'>4</a>\u001b[0m                 \u001b[39m'\u001b[39m\u001b[39mKp\u001b[39m\u001b[39m'\u001b[39m     : np\u001b[39m.\u001b[39marray([varss_aceSwe\u001b[39m.\u001b[39;49miloc[i][\u001b[39m'\u001b[39m\u001b[39mKp\u001b[39m\u001b[39m'\u001b[39m]]),\n\u001b[1;32m      <a href='vscode-notebook-cell:/home/jose/python_projects/lastClosedDS_LANLstar/calcMaxLtar.ipynb#ch0000008?line=4'>5</a>\u001b[0m                 \u001b[39m'\u001b[39m\u001b[39mDst\u001b[39m\u001b[39m'\u001b[39m    : np\u001b[39m.\u001b[39marray([varss_aceSwe\u001b[39m.\u001b[39miloc[i][\u001b[39m'\u001b[39m\u001b[39mSYM_H\u001b[39m\u001b[39m'\u001b[39m]]),\n\u001b[1;32m      <a href='vscode-notebook-cell:/home/jose/python_projects/lastClosedDS_LANLstar/calcMaxLtar.ipynb#ch0000008?line=5'>6</a>\u001b[0m                 \u001b[39m'\u001b[39m\u001b[39mdens\u001b[39m\u001b[39m'\u001b[39m   : np\u001b[39m.\u001b[39marray([varss_aceSwe\u001b[39m.\u001b[39miloc[i][\u001b[39m'\u001b[39m\u001b[39mproton_density\u001b[39m\u001b[39m'\u001b[39m]]),\n\u001b[1;32m      <a href='vscode-notebook-cell:/home/jose/python_projects/lastClosedDS_LANLstar/calcMaxLtar.ipynb#ch0000008?line=6'>7</a>\u001b[0m                 \u001b[39m'\u001b[39m\u001b[39mvelo\u001b[39m\u001b[39m'\u001b[39m   : np\u001b[39m.\u001b[39marray([varss_aceSwe\u001b[39m.\u001b[39miloc[i][\u001b[39m'\u001b[39m\u001b[39mflow_speed\u001b[39m\u001b[39m'\u001b[39m]]),\n\u001b[1;32m      <a href='vscode-notebook-cell:/home/jose/python_projects/lastClosedDS_LANLstar/calcMaxLtar.ipynb#ch0000008?line=7'>8</a>\u001b[0m                 \u001b[39m'\u001b[39m\u001b[39mPdyn\u001b[39m\u001b[39m'\u001b[39m   : np\u001b[39m.\u001b[39marray([varss_aceSwe\u001b[39m.\u001b[39miloc[i][\u001b[39m'\u001b[39m\u001b[39mPressure\u001b[39m\u001b[39m'\u001b[39m]]),\n\u001b[1;32m      <a href='vscode-notebook-cell:/home/jose/python_projects/lastClosedDS_LANLstar/calcMaxLtar.ipynb#ch0000008?line=8'>9</a>\u001b[0m                 \u001b[39m'\u001b[39m\u001b[39mByIMF\u001b[39m\u001b[39m'\u001b[39m  : np\u001b[39m.\u001b[39marray([varss_aceSwe\u001b[39m.\u001b[39miloc[i][\u001b[39m'\u001b[39m\u001b[39mBY_GSM\u001b[39m\u001b[39m'\u001b[39m]]),\n\u001b[1;32m     <a href='vscode-notebook-cell:/home/jose/python_projects/lastClosedDS_LANLstar/calcMaxLtar.ipynb#ch0000008?line=9'>10</a>\u001b[0m                 \u001b[39m'\u001b[39m\u001b[39mBzIMF\u001b[39m\u001b[39m'\u001b[39m  : np\u001b[39m.\u001b[39marray([varss_aceSwe\u001b[39m.\u001b[39miloc[i][\u001b[39m'\u001b[39m\u001b[39mBZ_GSM\u001b[39m\u001b[39m'\u001b[39m]]),\n\u001b[1;32m     <a href='vscode-notebook-cell:/home/jose/python_projects/lastClosedDS_LANLstar/calcMaxLtar.ipynb#ch0000008?line=10'>11</a>\u001b[0m                 \u001b[39m'\u001b[39m\u001b[39mG1\u001b[39m\u001b[39m'\u001b[39m     : np\u001b[39m.\u001b[39marray([\u001b[39m1.02966\u001b[39m]),\n\u001b[1;32m     <a href='vscode-notebook-cell:/home/jose/python_projects/lastClosedDS_LANLstar/calcMaxLtar.ipynb#ch0000008?line=11'>12</a>\u001b[0m                 \u001b[39m'\u001b[39m\u001b[39mG2\u001b[39m\u001b[39m'\u001b[39m     : np\u001b[39m.\u001b[39marray([\u001b[39m0.54933\u001b[39m]),\n\u001b[1;32m     <a href='vscode-notebook-cell:/home/jose/python_projects/lastClosedDS_LANLstar/calcMaxLtar.ipynb#ch0000008?line=12'>13</a>\u001b[0m                 \u001b[39m'\u001b[39m\u001b[39mG3\u001b[39m\u001b[39m'\u001b[39m     : np\u001b[39m.\u001b[39marray([\u001b[39m0.81399\u001b[39m]),\n\u001b[1;32m     <a href='vscode-notebook-cell:/home/jose/python_projects/lastClosedDS_LANLstar/calcMaxLtar.ipynb#ch0000008?line=13'>14</a>\u001b[0m                 \u001b[39m'\u001b[39m\u001b[39mW1\u001b[39m\u001b[39m'\u001b[39m     : np\u001b[39m.\u001b[39marray([\u001b[39m0.12244\u001b[39m]),\n\u001b[1;32m     <a href='vscode-notebook-cell:/home/jose/python_projects/lastClosedDS_LANLstar/calcMaxLtar.ipynb#ch0000008?line=14'>15</a>\u001b[0m                 \u001b[39m'\u001b[39m\u001b[39mW2\u001b[39m\u001b[39m'\u001b[39m     : np\u001b[39m.\u001b[39marray([\u001b[39m0.2514\u001b[39m ]),\n\u001b[1;32m     <a href='vscode-notebook-cell:/home/jose/python_projects/lastClosedDS_LANLstar/calcMaxLtar.ipynb#ch0000008?line=15'>16</a>\u001b[0m                 \u001b[39m'\u001b[39m\u001b[39mW3\u001b[39m\u001b[39m'\u001b[39m     : np\u001b[39m.\u001b[39marray([\u001b[39m0.0892\u001b[39m ]),\n\u001b[1;32m     <a href='vscode-notebook-cell:/home/jose/python_projects/lastClosedDS_LANLstar/calcMaxLtar.ipynb#ch0000008?line=16'>17</a>\u001b[0m                 \u001b[39m'\u001b[39m\u001b[39mW4\u001b[39m\u001b[39m'\u001b[39m     : np\u001b[39m.\u001b[39marray([\u001b[39m0.0478\u001b[39m ]),\n\u001b[1;32m     <a href='vscode-notebook-cell:/home/jose/python_projects/lastClosedDS_LANLstar/calcMaxLtar.ipynb#ch0000008?line=17'>18</a>\u001b[0m                 \u001b[39m'\u001b[39m\u001b[39mW5\u001b[39m\u001b[39m'\u001b[39m     : np\u001b[39m.\u001b[39marray([\u001b[39m0.2258\u001b[39m ]),\n\u001b[1;32m     <a href='vscode-notebook-cell:/home/jose/python_projects/lastClosedDS_LANLstar/calcMaxLtar.ipynb#ch0000008?line=18'>19</a>\u001b[0m                 \u001b[39m'\u001b[39m\u001b[39mW6\u001b[39m\u001b[39m'\u001b[39m     : np\u001b[39m.\u001b[39marray([\u001b[39m1.0461\u001b[39m ]),\n\u001b[1;32m     <a href='vscode-notebook-cell:/home/jose/python_projects/lastClosedDS_LANLstar/calcMaxLtar.ipynb#ch0000008?line=19'>20</a>\u001b[0m                 \u001b[39m'\u001b[39m\u001b[39mYear\u001b[39m\u001b[39m'\u001b[39m   : np\u001b[39m.\u001b[39marray([varss_aceSwe\u001b[39m.\u001b[39mindex[i]\u001b[39m.\u001b[39myear]),\n\u001b[1;32m     <a href='vscode-notebook-cell:/home/jose/python_projects/lastClosedDS_LANLstar/calcMaxLtar.ipynb#ch0000008?line=20'>21</a>\u001b[0m                 \u001b[39m'\u001b[39m\u001b[39mDOY\u001b[39m\u001b[39m'\u001b[39m    : np\u001b[39m.\u001b[39marray([varss_aceSwe\u001b[39m.\u001b[39miloc[i][\u001b[39m'\u001b[39m\u001b[39mDOY\u001b[39m\u001b[39m'\u001b[39m]]),\n\u001b[1;32m     <a href='vscode-notebook-cell:/home/jose/python_projects/lastClosedDS_LANLstar/calcMaxLtar.ipynb#ch0000008?line=21'>22</a>\u001b[0m                 \u001b[39m'\u001b[39m\u001b[39mHr\u001b[39m\u001b[39m'\u001b[39m     : np\u001b[39m.\u001b[39marray([varss_aceSwe\u001b[39m.\u001b[39miloc[i][\u001b[39m'\u001b[39m\u001b[39mHRS\u001b[39m\u001b[39m'\u001b[39m]]),\n\u001b[1;32m     <a href='vscode-notebook-cell:/home/jose/python_projects/lastClosedDS_LANLstar/calcMaxLtar.ipynb#ch0000008?line=22'>23</a>\u001b[0m                 \u001b[39m'\u001b[39m\u001b[39mPA\u001b[39m\u001b[39m'\u001b[39m     : np\u001b[39m.\u001b[39marray([\u001b[39m87.3875\u001b[39m])}\n",
      "File \u001b[0;32m~/python_projects/lastClosedDS_LANLstar/venv/lib/python3.10/site-packages/pandas/core/indexing.py:967\u001b[0m, in \u001b[0;36m_LocationIndexer.__getitem__\u001b[0;34m(self, key)\u001b[0m\n\u001b[1;32m    <a href='file:///~/python_projects/lastClosedDS_LANLstar/venv/lib/python3.10/site-packages/pandas/core/indexing.py?line=963'>964</a>\u001b[0m axis \u001b[39m=\u001b[39m \u001b[39mself\u001b[39m\u001b[39m.\u001b[39maxis \u001b[39mor\u001b[39;00m \u001b[39m0\u001b[39m\n\u001b[1;32m    <a href='file:///~/python_projects/lastClosedDS_LANLstar/venv/lib/python3.10/site-packages/pandas/core/indexing.py?line=965'>966</a>\u001b[0m maybe_callable \u001b[39m=\u001b[39m com\u001b[39m.\u001b[39mapply_if_callable(key, \u001b[39mself\u001b[39m\u001b[39m.\u001b[39mobj)\n\u001b[0;32m--> <a href='file:///~/python_projects/lastClosedDS_LANLstar/venv/lib/python3.10/site-packages/pandas/core/indexing.py?line=966'>967</a>\u001b[0m \u001b[39mreturn\u001b[39;00m \u001b[39mself\u001b[39;49m\u001b[39m.\u001b[39;49m_getitem_axis(maybe_callable, axis\u001b[39m=\u001b[39;49maxis)\n",
      "File \u001b[0;32m~/python_projects/lastClosedDS_LANLstar/venv/lib/python3.10/site-packages/pandas/core/indexing.py:1522\u001b[0m, in \u001b[0;36m_iLocIndexer._getitem_axis\u001b[0;34m(self, key, axis)\u001b[0m\n\u001b[1;32m   <a href='file:///~/python_projects/lastClosedDS_LANLstar/venv/lib/python3.10/site-packages/pandas/core/indexing.py?line=1518'>1519</a>\u001b[0m \u001b[39m# validate the location\u001b[39;00m\n\u001b[1;32m   <a href='file:///~/python_projects/lastClosedDS_LANLstar/venv/lib/python3.10/site-packages/pandas/core/indexing.py?line=1519'>1520</a>\u001b[0m \u001b[39mself\u001b[39m\u001b[39m.\u001b[39m_validate_integer(key, axis)\n\u001b[0;32m-> <a href='file:///~/python_projects/lastClosedDS_LANLstar/venv/lib/python3.10/site-packages/pandas/core/indexing.py?line=1521'>1522</a>\u001b[0m \u001b[39mreturn\u001b[39;00m \u001b[39mself\u001b[39;49m\u001b[39m.\u001b[39;49mobj\u001b[39m.\u001b[39;49m_ixs(key, axis\u001b[39m=\u001b[39;49maxis)\n",
      "File \u001b[0;32m~/python_projects/lastClosedDS_LANLstar/venv/lib/python3.10/site-packages/pandas/core/frame.py:3428\u001b[0m, in \u001b[0;36mDataFrame._ixs\u001b[0;34m(self, i, axis)\u001b[0m\n\u001b[1;32m   <a href='file:///~/python_projects/lastClosedDS_LANLstar/venv/lib/python3.10/site-packages/pandas/core/frame.py?line=3425'>3426</a>\u001b[0m \u001b[39m# if we are a copy, mark as such\u001b[39;00m\n\u001b[1;32m   <a href='file:///~/python_projects/lastClosedDS_LANLstar/venv/lib/python3.10/site-packages/pandas/core/frame.py?line=3426'>3427</a>\u001b[0m copy \u001b[39m=\u001b[39m \u001b[39misinstance\u001b[39m(new_values, np\u001b[39m.\u001b[39mndarray) \u001b[39mand\u001b[39;00m new_values\u001b[39m.\u001b[39mbase \u001b[39mis\u001b[39;00m \u001b[39mNone\u001b[39;00m\n\u001b[0;32m-> <a href='file:///~/python_projects/lastClosedDS_LANLstar/venv/lib/python3.10/site-packages/pandas/core/frame.py?line=3427'>3428</a>\u001b[0m result \u001b[39m=\u001b[39m \u001b[39mself\u001b[39;49m\u001b[39m.\u001b[39;49m_constructor_sliced(\n\u001b[1;32m   <a href='file:///~/python_projects/lastClosedDS_LANLstar/venv/lib/python3.10/site-packages/pandas/core/frame.py?line=3428'>3429</a>\u001b[0m     new_values,\n\u001b[1;32m   <a href='file:///~/python_projects/lastClosedDS_LANLstar/venv/lib/python3.10/site-packages/pandas/core/frame.py?line=3429'>3430</a>\u001b[0m     index\u001b[39m=\u001b[39;49m\u001b[39mself\u001b[39;49m\u001b[39m.\u001b[39;49mcolumns,\n\u001b[1;32m   <a href='file:///~/python_projects/lastClosedDS_LANLstar/venv/lib/python3.10/site-packages/pandas/core/frame.py?line=3430'>3431</a>\u001b[0m     name\u001b[39m=\u001b[39;49m\u001b[39mself\u001b[39;49m\u001b[39m.\u001b[39;49mindex[i],\n\u001b[1;32m   <a href='file:///~/python_projects/lastClosedDS_LANLstar/venv/lib/python3.10/site-packages/pandas/core/frame.py?line=3431'>3432</a>\u001b[0m     dtype\u001b[39m=\u001b[39;49mnew_values\u001b[39m.\u001b[39;49mdtype,\n\u001b[1;32m   <a href='file:///~/python_projects/lastClosedDS_LANLstar/venv/lib/python3.10/site-packages/pandas/core/frame.py?line=3432'>3433</a>\u001b[0m )\n\u001b[1;32m   <a href='file:///~/python_projects/lastClosedDS_LANLstar/venv/lib/python3.10/site-packages/pandas/core/frame.py?line=3433'>3434</a>\u001b[0m result\u001b[39m.\u001b[39m_set_is_copy(\u001b[39mself\u001b[39m, copy\u001b[39m=\u001b[39mcopy)\n\u001b[1;32m   <a href='file:///~/python_projects/lastClosedDS_LANLstar/venv/lib/python3.10/site-packages/pandas/core/frame.py?line=3434'>3435</a>\u001b[0m \u001b[39mreturn\u001b[39;00m result\n",
      "File \u001b[0;32m~/python_projects/lastClosedDS_LANLstar/venv/lib/python3.10/site-packages/pandas/core/series.py:365\u001b[0m, in \u001b[0;36mSeries.__init__\u001b[0;34m(self, data, index, dtype, name, copy, fastpath)\u001b[0m\n\u001b[1;32m    <a href='file:///~/python_projects/lastClosedDS_LANLstar/venv/lib/python3.10/site-packages/pandas/core/series.py?line=360'>361</a>\u001b[0m         index \u001b[39m=\u001b[39m data\u001b[39m.\u001b[39mindex\n\u001b[1;32m    <a href='file:///~/python_projects/lastClosedDS_LANLstar/venv/lib/python3.10/site-packages/pandas/core/series.py?line=362'>363</a>\u001b[0m \u001b[39melse\u001b[39;00m:\n\u001b[0;32m--> <a href='file:///~/python_projects/lastClosedDS_LANLstar/venv/lib/python3.10/site-packages/pandas/core/series.py?line=364'>365</a>\u001b[0m     name \u001b[39m=\u001b[39m ibase\u001b[39m.\u001b[39;49mmaybe_extract_name(name, data, \u001b[39mtype\u001b[39;49m(\u001b[39mself\u001b[39;49m))\n\u001b[1;32m    <a href='file:///~/python_projects/lastClosedDS_LANLstar/venv/lib/python3.10/site-packages/pandas/core/series.py?line=366'>367</a>\u001b[0m     \u001b[39mif\u001b[39;00m is_empty_data(data) \u001b[39mand\u001b[39;00m dtype \u001b[39mis\u001b[39;00m \u001b[39mNone\u001b[39;00m:\n\u001b[1;32m    <a href='file:///~/python_projects/lastClosedDS_LANLstar/venv/lib/python3.10/site-packages/pandas/core/series.py?line=367'>368</a>\u001b[0m         \u001b[39m# gh-17261\u001b[39;00m\n\u001b[1;32m    <a href='file:///~/python_projects/lastClosedDS_LANLstar/venv/lib/python3.10/site-packages/pandas/core/series.py?line=368'>369</a>\u001b[0m         warnings\u001b[39m.\u001b[39mwarn(\n\u001b[1;32m    <a href='file:///~/python_projects/lastClosedDS_LANLstar/venv/lib/python3.10/site-packages/pandas/core/series.py?line=369'>370</a>\u001b[0m             \u001b[39m\"\u001b[39m\u001b[39mThe default dtype for empty Series will be \u001b[39m\u001b[39m'\u001b[39m\u001b[39mobject\u001b[39m\u001b[39m'\u001b[39m\u001b[39m instead \u001b[39m\u001b[39m\"\u001b[39m\n\u001b[1;32m    <a href='file:///~/python_projects/lastClosedDS_LANLstar/venv/lib/python3.10/site-packages/pandas/core/series.py?line=370'>371</a>\u001b[0m             \u001b[39m\"\u001b[39m\u001b[39mof \u001b[39m\u001b[39m'\u001b[39m\u001b[39mfloat64\u001b[39m\u001b[39m'\u001b[39m\u001b[39m in a future version. Specify a dtype explicitly \u001b[39m\u001b[39m\"\u001b[39m\n\u001b[0;32m   (...)\u001b[0m\n\u001b[1;32m    <a href='file:///~/python_projects/lastClosedDS_LANLstar/venv/lib/python3.10/site-packages/pandas/core/series.py?line=373'>374</a>\u001b[0m             stacklevel\u001b[39m=\u001b[39mfind_stack_level(),\n\u001b[1;32m    <a href='file:///~/python_projects/lastClosedDS_LANLstar/venv/lib/python3.10/site-packages/pandas/core/series.py?line=374'>375</a>\u001b[0m         )\n",
      "File \u001b[0;32m~/python_projects/lastClosedDS_LANLstar/venv/lib/python3.10/site-packages/pandas/core/indexes/base.py:7082\u001b[0m, in \u001b[0;36mmaybe_extract_name\u001b[0;34m(name, obj, cls)\u001b[0m\n\u001b[1;32m   <a href='file:///~/python_projects/lastClosedDS_LANLstar/venv/lib/python3.10/site-packages/pandas/core/indexes/base.py?line=7077'>7078</a>\u001b[0m     \u001b[39mif\u001b[39;00m method \u001b[39mnot\u001b[39;00m \u001b[39min\u001b[39;00m [\u001b[39m\"\u001b[39m\u001b[39mleft\u001b[39m\u001b[39m\"\u001b[39m, \u001b[39m\"\u001b[39m\u001b[39mright\u001b[39m\u001b[39m\"\u001b[39m, \u001b[39m\"\u001b[39m\u001b[39minner\u001b[39m\u001b[39m\"\u001b[39m, \u001b[39m\"\u001b[39m\u001b[39mouter\u001b[39m\u001b[39m\"\u001b[39m]:\n\u001b[1;32m   <a href='file:///~/python_projects/lastClosedDS_LANLstar/venv/lib/python3.10/site-packages/pandas/core/indexes/base.py?line=7078'>7079</a>\u001b[0m         \u001b[39mraise\u001b[39;00m \u001b[39mValueError\u001b[39;00m(\u001b[39mf\u001b[39m\u001b[39m\"\u001b[39m\u001b[39mdo not recognize join method \u001b[39m\u001b[39m{\u001b[39;00mmethod\u001b[39m}\u001b[39;00m\u001b[39m\"\u001b[39m)\n\u001b[0;32m-> <a href='file:///~/python_projects/lastClosedDS_LANLstar/venv/lib/python3.10/site-packages/pandas/core/indexes/base.py?line=7081'>7082</a>\u001b[0m \u001b[39mdef\u001b[39;00m \u001b[39mmaybe_extract_name\u001b[39m(name, obj, \u001b[39mcls\u001b[39m) \u001b[39m-\u001b[39m\u001b[39m>\u001b[39m Hashable:\n\u001b[1;32m   <a href='file:///~/python_projects/lastClosedDS_LANLstar/venv/lib/python3.10/site-packages/pandas/core/indexes/base.py?line=7082'>7083</a>\u001b[0m     \u001b[39m\"\"\"\u001b[39;00m\n\u001b[1;32m   <a href='file:///~/python_projects/lastClosedDS_LANLstar/venv/lib/python3.10/site-packages/pandas/core/indexes/base.py?line=7083'>7084</a>\u001b[0m \u001b[39m    If no name is passed, then extract it from data, validating hashability.\u001b[39;00m\n\u001b[1;32m   <a href='file:///~/python_projects/lastClosedDS_LANLstar/venv/lib/python3.10/site-packages/pandas/core/indexes/base.py?line=7084'>7085</a>\u001b[0m \u001b[39m    \"\"\"\u001b[39;00m\n\u001b[1;32m   <a href='file:///~/python_projects/lastClosedDS_LANLstar/venv/lib/python3.10/site-packages/pandas/core/indexes/base.py?line=7085'>7086</a>\u001b[0m     \u001b[39mif\u001b[39;00m name \u001b[39mis\u001b[39;00m \u001b[39mNone\u001b[39;00m \u001b[39mand\u001b[39;00m \u001b[39misinstance\u001b[39m(obj, (Index, ABCSeries)):\n\u001b[1;32m   <a href='file:///~/python_projects/lastClosedDS_LANLstar/venv/lib/python3.10/site-packages/pandas/core/indexes/base.py?line=7086'>7087</a>\u001b[0m         \u001b[39m# Note we don't just check for \"name\" attribute since that would\u001b[39;00m\n\u001b[1;32m   <a href='file:///~/python_projects/lastClosedDS_LANLstar/venv/lib/python3.10/site-packages/pandas/core/indexes/base.py?line=7087'>7088</a>\u001b[0m         \u001b[39m#  pick up e.g. dtype.name\u001b[39;00m\n",
      "\u001b[0;31mKeyboardInterrupt\u001b[0m: "
     ]
    }
   ],
   "source": [
    "outs = []\n",
    "for i in range(varss_aceSwe.shape[0]):\n",
    "    dat = {\n",
    "                'Kp'     : np.array([varss_aceSwe.iloc[i]['Kp']]),\n",
    "                'Dst'    : np.array([varss_aceSwe.iloc[i]['SYM_H']]),\n",
    "                'dens'   : np.array([varss_aceSwe.iloc[i]['proton_density']]),\n",
    "                'velo'   : np.array([varss_aceSwe.iloc[i]['flow_speed']]),\n",
    "                'Pdyn'   : np.array([varss_aceSwe.iloc[i]['Pressure']]),\n",
    "                'ByIMF'  : np.array([varss_aceSwe.iloc[i]['BY_GSM']]),\n",
    "                'BzIMF'  : np.array([varss_aceSwe.iloc[i]['BZ_GSM']]),\n",
    "                'G1'     : np.array([1.02966]),\n",
    "                'G2'     : np.array([0.54933]),\n",
    "                'G3'     : np.array([0.81399]),\n",
    "                'W1'     : np.array([0.12244]),\n",
    "                'W2'     : np.array([0.2514 ]),\n",
    "                'W3'     : np.array([0.0892 ]),\n",
    "                'W4'     : np.array([0.0478 ]),\n",
    "                'W5'     : np.array([0.2258 ]),\n",
    "                'W6'     : np.array([1.0461 ]),\n",
    "                'Year'   : np.array([varss_aceSwe.index[i].year]),\n",
    "                'DOY'    : np.array([varss_aceSwe.iloc[i]['DOY']]),\n",
    "                'Hr'     : np.array([varss_aceSwe.iloc[i]['HRS']]),\n",
    "                'PA'     : np.array([87.3875])}"
   ]
  },
  {
   "cell_type": "code",
   "execution_count": 76,
   "metadata": {},
   "outputs": [],
   "source": [
    "expected_lmax = {'OPDYN'   : np.array([10.6278]),\n",
    "                          'OPQUIET' : np.array([9.3352]),\n",
    "                          'T01QUIET': np.array([10.0538]),\n",
    "                          'T01STORM': np.array([9.9300]),\n",
    "                          'T89'     : np.array([8.2888]),\n",
    "                          'T96'     : np.array([8.2410]),\n",
    "                          'T05'    : np.array([9.9295])}"
   ]
  },
  {
   "cell_type": "code",
   "execution_count": 77,
   "metadata": {},
   "outputs": [],
   "source": [
    "Bmodels = ['OPDYN','OPQUIET','T01QUIET','T01STORM','T89','T96','T05']"
   ]
  },
  {
   "cell_type": "code",
   "execution_count": 78,
   "metadata": {},
   "outputs": [],
   "source": [
    "actual = sl.LANLmax(dat, Bmodels)"
   ]
  },
  {
   "cell_type": "code",
   "execution_count": 79,
   "metadata": {},
   "outputs": [
    {
     "data": {
      "text/plain": [
       "{'OPDYN': array([10.62587259]),\n",
       " 'OPQUIET': array([9.33781189]),\n",
       " 'T01QUIET': array([10.0300971]),\n",
       " 'T01STORM': array([9.91675895]),\n",
       " 'T89': array([7.27245914]),\n",
       " 'T96': array([9.26556856]),\n",
       " 'T05': array([9.90567697])}"
      ]
     },
     "execution_count": 79,
     "metadata": {},
     "output_type": "execute_result"
    }
   ],
   "source": [
    "actual"
   ]
  },
  {
   "cell_type": "code",
   "execution_count": 9,
   "metadata": {},
   "outputs": [
    {
     "ename": "NameError",
     "evalue": "name 'Bmodels' is not defined",
     "output_type": "error",
     "traceback": [
      "\u001b[0;31m---------------------------------------------------------------------------\u001b[0m",
      "\u001b[0;31mNameError\u001b[0m                                 Traceback (most recent call last)",
      "\u001b[1;32m/home/jose/python_projects/lastClosedDS_LANLstar/calcMaxLtar.ipynb Cell 14'\u001b[0m in \u001b[0;36m<cell line: 1>\u001b[0;34m()\u001b[0m\n\u001b[0;32m----> <a href='vscode-notebook-cell:/home/jose/python_projects/lastClosedDS_LANLstar/calcMaxLtar.ipynb#ch0000013?line=0'>1</a>\u001b[0m \u001b[39mfor\u001b[39;00m key \u001b[39min\u001b[39;00m Bmodels:\n\u001b[1;32m      <a href='vscode-notebook-cell:/home/jose/python_projects/lastClosedDS_LANLstar/calcMaxLtar.ipynb#ch0000013?line=1'>2</a>\u001b[0m     np\u001b[39m.\u001b[39mtesting\u001b[39m.\u001b[39massert_almost_equal(expected_lmax[key], actual[key], decimal\u001b[39m=\u001b[39m\u001b[39m4\u001b[39m)\n",
      "\u001b[0;31mNameError\u001b[0m: name 'Bmodels' is not defined"
     ]
    }
   ],
   "source": [
    "for key in Bmodels:\n",
    "    np.testing.assert_almost_equal(expected_lmax[key], actual[key], decimal=4)"
   ]
  },
  {
   "cell_type": "code",
   "execution_count": 5,
   "metadata": {},
   "outputs": [],
   "source": [
    "\n"
   ]
  },
  {
   "cell_type": "code",
   "execution_count": 57,
   "metadata": {},
   "outputs": [
    {
     "data": {
      "text/plain": [
       "Ticktock( [Timestamp('2014-03-31 00:00:05.752000+0000', tz='UTC')\n",
       " Timestamp('2014-03-31 00:00:16.585000+0000', tz='UTC')\n",
       " Timestamp('2014-03-31 00:00:27.417000+0000', tz='UTC') ...\n",
       " Timestamp('2014-04-13 23:59:15.501000+0000', tz='UTC')\n",
       " Timestamp('2014-04-13 23:59:26.326000+0000', tz='UTC')\n",
       " Timestamp('2014-04-13 23:59:37.151000+0000', tz='UTC')], dtype=UTC)"
      ]
     },
     "execution_count": 57,
     "metadata": {},
     "output_type": "execute_result"
    }
   ],
   "source": [
    "spt.Ticktock(df_rept.index)"
   ]
  },
  {
   "cell_type": "code",
   "execution_count": 10,
   "metadata": {},
   "outputs": [],
   "source": [
    "LCDS = ib.find_LCDS(spt.Ticktock(df_rept.index[0:1], 'ISO'),alpha=86, extMag='T05')"
   ]
  },
  {
   "cell_type": "code",
   "execution_count": 11,
   "metadata": {},
   "outputs": [
    {
     "data": {
      "text/plain": [
       "{'LCDS': dmarray([9.16306926]),\n",
       " 'K': dmarray([6.46376187e-05]),\n",
       " 'UTC': dmarray([Timestamp('2014-03-31 00:00:05.752000')], dtype=object),\n",
       " 'AlphaEq': dmarray([86])}"
      ]
     },
     "execution_count": 11,
     "metadata": {},
     "output_type": "execute_result"
    }
   ],
   "source": [
    "LCDS"
   ]
  },
  {
   "cell_type": "code",
   "execution_count": 16,
   "metadata": {},
   "outputs": [],
   "source": [
    "with open(f'/home/jose/python_projects/rbsp_flux_sw_sea/dataJson/CME_FluxEnhRed2_AB_Lst_asfreq.json', 'r') as f:\n",
    "\tdataFlux = json.load(f)"
   ]
  },
  {
   "cell_type": "code",
   "execution_count": 24,
   "metadata": {},
   "outputs": [],
   "source": [
    "ttime  = dataFlux['enhancement']['2012-10-08 15:00:00.000000']['time']\n",
    "ddata  = dataFlux['enhancement']['2012-10-08 15:00:00.000000']['data']"
   ]
  },
  {
   "cell_type": "code",
   "execution_count": 45,
   "metadata": {},
   "outputs": [
    {
     "data": {
      "text/plain": [
       "[<matplotlib.lines.Line2D at 0x7effc78fba90>]"
      ]
     },
     "execution_count": 45,
     "metadata": {},
     "output_type": "execute_result"
    },
    {
     "data": {
      "image/png": "[encoded data removed]",
      "text/plain": [
       "<Figure size 432x288 with 1 Axes>"
      ]
     },
     "metadata": {
      "needs_background": "light"
     },
     "output_type": "display_data"
    }
   ],
   "source": [
    "plt.plot(pd.to_datetime(ttime), np.log(ddata['5.5']))"
   ]
  },
  {
   "cell_type": "code",
   "execution_count": 53,
   "metadata": {},
   "outputs": [],
   "source": [
    "LCDS = ib.find_LCDS(spt.Ticktock(ttime, 'ISO'),alpha=90, extMag='T89')"
   ]
  },
  {
   "cell_type": "code",
   "execution_count": 55,
   "metadata": {},
   "outputs": [
    {
     "data": {
      "text/plain": [
       "[<matplotlib.lines.Line2D at 0x7effc70fd690>]"
      ]
     },
     "execution_count": 55,
     "metadata": {},
     "output_type": "execute_result"
    },
    {
     "data": {
      "image/png": "[encoded data removed]",
      "text/plain": [
       "<Figure size 432x288 with 1 Axes>"
      ]
     },
     "metadata": {
      "needs_background": "light"
     },
     "output_type": "display_data"
    }
   ],
   "source": [
    "plt.plot(LCDS['LCDS'])"
   ]
  },
  {
   "cell_type": "code",
   "execution_count": 35,
   "metadata": {},
   "outputs": [
    {
     "data": {
      "text/plain": [
       "['2012-10-04 15:00:00.000000',\n",
       " '2012-10-04 18:00:00.000000',\n",
       " '2012-10-04 21:00:00.000000',\n",
       " '2012-10-05 00:00:00.000000',\n",
       " '2012-10-05 03:00:00.000000',\n",
       " '2012-10-05 06:00:00.000000',\n",
       " '2012-10-05 09:00:00.000000',\n",
       " '2012-10-05 12:00:00.000000',\n",
       " '2012-10-05 15:00:00.000000',\n",
       " '2012-10-05 18:00:00.000000',\n",
       " '2012-10-05 21:00:00.000000',\n",
       " '2012-10-06 00:00:00.000000',\n",
       " '2012-10-06 03:00:00.000000',\n",
       " '2012-10-06 06:00:00.000000',\n",
       " '2012-10-06 09:00:00.000000',\n",
       " '2012-10-06 12:00:00.000000',\n",
       " '2012-10-06 15:00:00.000000',\n",
       " '2012-10-06 18:00:00.000000',\n",
       " '2012-10-06 21:00:00.000000',\n",
       " '2012-10-07 00:00:00.000000',\n",
       " '2012-10-07 03:00:00.000000',\n",
       " '2012-10-07 06:00:00.000000',\n",
       " '2012-10-07 09:00:00.000000',\n",
       " '2012-10-07 12:00:00.000000',\n",
       " '2012-10-07 15:00:00.000000',\n",
       " '2012-10-07 18:00:00.000000',\n",
       " '2012-10-07 21:00:00.000000',\n",
       " '2012-10-08 00:00:00.000000',\n",
       " '2012-10-08 03:00:00.000000',\n",
       " '2012-10-08 06:00:00.000000',\n",
       " '2012-10-08 09:00:00.000000',\n",
       " '2012-10-08 12:00:00.000000',\n",
       " '2012-10-08 15:00:00.000000',\n",
       " '2012-10-08 18:00:00.000000',\n",
       " '2012-10-08 21:00:00.000000',\n",
       " '2012-10-09 00:00:00.000000',\n",
       " '2012-10-09 03:00:00.000000',\n",
       " '2012-10-09 06:00:00.000000',\n",
       " '2012-10-09 09:00:00.000000',\n",
       " '2012-10-09 12:00:00.000000',\n",
       " '2012-10-09 15:00:00.000000',\n",
       " '2012-10-09 18:00:00.000000',\n",
       " '2012-10-09 21:00:00.000000',\n",
       " '2012-10-10 00:00:00.000000',\n",
       " '2012-10-10 03:00:00.000000',\n",
       " '2012-10-10 06:00:00.000000',\n",
       " '2012-10-10 09:00:00.000000',\n",
       " '2012-10-10 12:00:00.000000',\n",
       " '2012-10-10 15:00:00.000000',\n",
       " '2012-10-10 18:00:00.000000',\n",
       " '2012-10-10 21:00:00.000000',\n",
       " '2012-10-11 00:00:00.000000',\n",
       " '2012-10-11 03:00:00.000000',\n",
       " '2012-10-11 06:00:00.000000',\n",
       " '2012-10-11 09:00:00.000000',\n",
       " '2012-10-11 12:00:00.000000',\n",
       " '2012-10-11 15:00:00.000000',\n",
       " '2012-10-11 18:00:00.000000',\n",
       " '2012-10-11 21:00:00.000000',\n",
       " '2012-10-12 00:00:00.000000',\n",
       " '2012-10-12 03:00:00.000000',\n",
       " '2012-10-12 06:00:00.000000',\n",
       " '2012-10-12 09:00:00.000000',\n",
       " '2012-10-12 12:00:00.000000',\n",
       " '2012-10-12 15:00:00.000000']"
      ]
     },
     "execution_count": 35,
     "metadata": {},
     "output_type": "execute_result"
    }
   ],
   "source": [
    "ttime"
   ]
  },
  {
   "cell_type": "code",
   "execution_count": null,
   "metadata": {},
   "outputs": [],
   "source": []
  }
 ],
 "metadata": {
  "interpreter": {
   "hash": "e7370f93d1d0cde622a1f8e1c04877d8463912d04d973331ad4851f04de6915a"
  },
  "kernelspec": {
   "display_name": "Python 3.10.2 64-bit",
   "language": "python",
   "name": "python3"
  },
  "language_info": {
   "codemirror_mode": {
    "name": "ipython",
    "version": 3
   },
   "file_extension": ".py",
   "mimetype": "text/x-python",
   "name": "python",
   "nbconvert_exporter": "python",
   "pygments_lexer": "ipython3",
   "version": "3.10.2"
  },
  "orig_nbformat": 4
 },
 "nbformat": 4,
 "nbformat_minor": 2
}
