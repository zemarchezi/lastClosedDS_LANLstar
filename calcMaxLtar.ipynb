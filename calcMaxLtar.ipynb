{
 "cells": [
  {
   "cell_type": "code",
   "execution_count": 1,
   "metadata": {},
   "outputs": [
    {
     "name": "stderr",
     "output_type": "stream",
     "text": [
      "/home/jose/python_projects/lastClosedDS_LANLstar/.venv/lib/python3.10/site-packages/spacepy/omni.py:418: UserWarning: Qin-Denton/OMNI2 data not found in current format. This module has limited functionality. Run spacepy.toolbox.update(QDomni=True) to download data.\n",
      "  warnings.warn(\n"
     ]
    }
   ],
   "source": [
    "\n",
    "import pytz\n",
    "import spacepy.irbempy as ib\n",
    "import spacepy.time as spt\n",
    "import spacepy.LANLstar as sl\n",
    "from spacepy import radbelt as rb\n",
    "import datetime as dt\n",
    "import spacepy.time as spt\n",
    "import spacepy.omni as om\n",
    "import numpy as np\n",
    "from pysatdata.loaders.load import *\n",
    "import datetime\n",
    "from download_kp import down_kp\n",
    "import pandas as pd\n",
    "import matplotlib.pyplot as plt\n",
    "import json\n",
    "from scipy import interpolate as interp\n",
    "# import numba\n",
    "# from numba import jit"
   ]
  },
  {
   "cell_type": "code",
   "execution_count": 5,
   "metadata": {},
   "outputs": [],
   "source": [
    "stringInstant = '2014-04-07'\n",
    "\n",
    "# stringInstant = dataT.index[0].split(\" \")[0]\n",
    "instDate = datetime.datetime.strptime(stringInstant, '%Y-%m-%d')\n",
    "\n",
    "\n",
    "inidate = instDate - datetime.timedelta(days = 1)\n",
    "enddate = instDate + datetime.timedelta(days = 1)\n",
    "trange0 = [inidate.strftime('%Y-%m-%d'), enddate.strftime('%Y-%m-%d')]\n",
    "trange= [(inidate - datetime.timedelta(days = 1)).strftime('%Y-%m-%d'),\n",
    "         (enddate + datetime.timedelta(days = 1)).strftime('%Y-%m-%d')]\n",
    "\n",
    "config_file_sat = '/home/jose/python_projects/pySatData/pysatdata/resources/config_file.json'\n",
    "\n",
    "lshellOrlStar = 'L-Star'\n",
    "probe = 'a'"
   ]
  },
  {
   "cell_type": "code",
   "execution_count": 6,
   "metadata": {},
   "outputs": [
    {
     "name": "stderr",
     "output_type": "stream",
     "text": [
      "2022-03-03 20:18:51.628 | INFO     | pysatdata.loaders.load:load_sat:49 - Local Download Path: /home/jose/sat_data/omni\n",
      "2022-03-03 20:18:51.634 | WARNING  | pysatdata.loaders.load:load_sat:54 - Selecting the sub path key\n",
      "2022-03-03 20:18:51.639 | INFO     | pysatdata.utils.library_functions:testRemoteDir:233 - Testing Connection\n",
      "2022-03-03 20:18:52.361 | WARNING  | pysatdata.utils.library_functions:testRemoteDir:239 - Using https://spdf.gsfc.nasa.gov/pub/data/omni/...\n",
      "2022-03-03 20:18:52.367 | INFO     | pysatdata.loaders.load:load_sat:58 - Remotepath: https://spdf.gsfc.nasa.gov/pub/data/omni/\n",
      "2022-03-03 20:18:52.375 | INFO     | pysatdata.loaders.load:load_sat:69 - Remote_file_path: omni_cdaweb/hro_1min/%Y/omni_hro_1min_%Y%m01_v*.cdf\n",
      "2022-03-03 20:18:52.507 | INFO     | pysatdata.utils.download:download:213 - Downloading remote index: https://spdf.gsfc.nasa.gov/pub/data/omni/omni_cdaweb/hro_1min/2014/\n",
      "2022-03-03 20:18:53.300 | INFO     | pysatdata.utils.download:download_file:89 - Downloading https://spdf.gsfc.nasa.gov/pub/data/omni/omni_cdaweb/hro_1min/2014/omni_hro_1min_20140401_v01.cdf to /home/jose/sat_data/omni/omni_cdaweb/hro_1min/2014/omni_hro_1min_20140401_v01.cdf\n",
      "2022-03-03 20:18:55.274 | INFO     | pysatdata.utils.download:download_file:113 - Download complete: /home/jose/sat_data/omni/omni_cdaweb/hro_1min/2014/omni_hro_1min_20140401_v01.cdf\n",
      "/home/jose/.local/lib/python3.10/site-packages/erfa/core.py:154: ErfaWarning: ERFA function \"dtf2d\" yielded 1 of \"dubious year (Note 6)\"\n",
      "  warnings.warn('ERFA function \"{}\" yielded {}'.format(func_name, wmsg),\n"
     ]
    }
   ],
   "source": [
    "pytplot.del_data()\n",
    "varss_aceSwe = load_sat(trange=trange, satellite='omni',\n",
    "                    probe=['omni'], rel='rel03',\n",
    "                    instrument='omni_cdaweb',datatype='hro_1min',\n",
    "                    config_file=config_file_sat, downloadonly=False,\n",
    "                    usePandas=True, usePyTplot=False)\n",
    "\n",
    "quants_Swe = pytplot.data_quants['proton_density']\n",
    "time_swe = quants_Swe.coords['time'].values\n",
    "time_dt_swe = [datetime.datetime.fromtimestamp(i, pytz.timezone(\"UTC\")) for i in time_swe]\n",
    "nP = pytplot.data_quants['proton_density'].values\n",
    "bgse_x = pytplot.data_quants['BX_GSE'].values\n",
    "bgse_y = pytplot.data_quants['BY_GSE'].values\n",
    "bgse_z = pytplot.data_quants['BZ_GSE'].values\n",
    "b_total = pytplot.data_quants['F'].values\n",
    "flow_speed = pytplot.data_quants['flow_speed'].values\n",
    "imf = pytplot.data_quants['IMF'].values\n",
    "ae_index = pytplot.data_quants['AE_INDEX'].values\n",
    "symH_index = pytplot.data_quants['SYM_H'].values\n",
    "\n",
    "\n",
    "varss_aceSwe.index = pd.to_datetime(time_dt_swe)\n"
   ]
  },
  {
   "cell_type": "code",
   "execution_count": 7,
   "metadata": {},
   "outputs": [],
   "source": [
    "doys = [x.strftime('%j') for x in varss_aceSwe.index]\n",
    "housr = [((x.hour * 60) + x.minute) / 60 for x in  varss_aceSwe.index]\n",
    "varss_aceSwe['DOY'] = doys\n",
    "varss_aceSwe['HRS'] = housr"
   ]
  },
  {
   "cell_type": "code",
   "execution_count": 8,
   "metadata": {},
   "outputs": [
    {
     "name": "stderr",
     "output_type": "stream",
     "text": [
      "2022-03-03 20:21:20.709 | INFO     | pysatdata.loaders.load:load_sat:49 - Local Download Path: /home/jose/sat_data/rbsp\n",
      "2022-03-03 20:21:20.711 | WARNING  | pysatdata.loaders.load:load_sat:54 - Selecting the sub path key\n",
      "2022-03-03 20:21:20.714 | INFO     | pysatdata.utils.library_functions:testRemoteDir:233 - Testing Connection\n",
      "2022-03-03 20:21:21.754 | WARNING  | pysatdata.utils.library_functions:testRemoteDir:239 - Using https://spdf.gsfc.nasa.gov/pub/data/rbsp/...\n",
      "2022-03-03 20:21:21.762 | INFO     | pysatdata.loaders.load:load_sat:58 - Remotepath: https://spdf.gsfc.nasa.gov/pub/data/rbsp/\n",
      "2022-03-03 20:21:21.770 | INFO     | pysatdata.loaders.load:load_sat:69 - Remote_file_path: rbspa/l3/ect/rept/sectors/rel03/%Y/rbspa_rel03_ect-rept-sci-l3_%Y%m%d_v*.cdf\n",
      "2022-03-03 20:21:21.779 | INFO     | pysatdata.utils.download:download:213 - Downloading remote index: https://spdf.gsfc.nasa.gov/pub/data/rbsp/rbspa/l3/ect/rept/sectors/rel03/2014/\n",
      "2022-03-03 20:21:23.006 | INFO     | pysatdata.utils.download:download_file:72 - File is current: /home/jose/sat_data/rbsp/rbspa/l3/ect/rept/sectors/rel03/2014/rbspa_rel03_ect-rept-sci-l3_20140405_v5.0.0.cdf\n",
      "2022-03-03 20:21:23.730 | INFO     | pysatdata.utils.download:download_file:72 - File is current: /home/jose/sat_data/rbsp/rbspa/l3/ect/rept/sectors/rel03/2014/rbspa_rel03_ect-rept-sci-l3_20140406_v5.0.0.cdf\n",
      "2022-03-03 20:21:24.576 | INFO     | pysatdata.utils.download:download_file:72 - File is current: /home/jose/sat_data/rbsp/rbspa/l3/ect/rept/sectors/rel03/2014/rbspa_rel03_ect-rept-sci-l3_20140407_v5.0.0.cdf\n",
      "2022-03-03 20:21:25.279 | INFO     | pysatdata.utils.download:download_file:72 - File is current: /home/jose/sat_data/rbsp/rbspa/l3/ect/rept/sectors/rel03/2014/rbspa_rel03_ect-rept-sci-l3_20140408_v5.0.0.cdf\n"
     ]
    }
   ],
   "source": [
    "pytplot.del_data()\n",
    "varss_rept = load_sat(trange=trange, satellite='rbsp',\n",
    "                    probe=[probe], level='3', \n",
    "                    rel='rel03', instrument='rept',\n",
    "                    datatype='sectors',varnames=['FEDU', 'L_star', 'L'],\n",
    "                    config_file=config_file_sat, downloadonly=False, \n",
    "                    usePandas=False, usePyTplot=True)\n",
    "quants_fedu_rept = pytplot.data_quants['FEDU']\n",
    "l_star = pytplot.data_quants['L_star'].values\n",
    "l_m = pytplot.data_quants['L'].values"
   ]
  },
  {
   "cell_type": "code",
   "execution_count": 9,
   "metadata": {},
   "outputs": [],
   "source": [
    "time_rept = quants_fedu_rept.coords['time'].values\n",
    "time_dt_rept = [datetime.datetime.fromtimestamp(i, pytz.timezone(\"UTC\")) for i in time_rept]\n",
    "df_rept = pd.DataFrame(l_star, index=time_dt_rept, columns=['L-Star'])"
   ]
  },
  {
   "cell_type": "code",
   "execution_count": 10,
   "metadata": {},
   "outputs": [
    {
     "name": "stdout",
     "output_type": "stream",
     "text": [
      "Kp_ap_2014.txt\n",
      "Kp_ap_2014.txt already at: ./data_KP/\n"
     ]
    }
   ],
   "source": [
    "kpDf = down_kp(datetime.datetime.strptime(trange[0], '%Y-%m-%d'), datetime.datetime.strptime(trange[1], '%Y-%m-%d'),\n",
    "                 dataPath='./data_KP/', downloadData=1)\n",
    "fls = interp.interp1d((np.arange(0, len(kpDf['Kp'].values))), kpDf['Kp'].values, bounds_error=False)\n",
    "lsnewy = np.linspace(0, len(kpDf['Kp'].values), len(varss_aceSwe.index))\n",
    "kp_intep = fls(lsnewy)\n",
    "varss_aceSwe['Kp'] = kp_intep"
   ]
  },
  {
   "cell_type": "code",
   "execution_count": 11,
   "metadata": {},
   "outputs": [
    {
     "data": {
      "text/plain": [
       "Index(['IMF', 'PLS', 'IMF_PTS', 'PLS_PTS', 'percent_interp', 'Timeshift',\n",
       "       'RMS_Timeshift', 'RMS_phase', 'Time_btwn_obs', 'F', 'BX_GSE', 'BY_GSE',\n",
       "       'BZ_GSE', 'BY_GSM', 'BZ_GSM', 'RMS_SD_B', 'RMS_SD_fld_vec',\n",
       "       'flow_speed', 'Vx', 'Vy', 'Vz', 'proton_density', 'T', 'Pressure', 'E',\n",
       "       'Beta', 'Mach_num', 'Mgs_mach_num', 'x', 'y', 'z', 'BSN_x', 'BSN_y',\n",
       "       'BSN_z', 'AE_INDEX', 'AL_INDEX', 'AU_INDEX', 'SYM_D', 'SYM_H', 'ASY_D',\n",
       "       'ASY_H', 'PC_N_INDEX', 'DOY', 'HRS', 'Kp'],\n",
       "      dtype='object')"
      ]
     },
     "execution_count": 11,
     "metadata": {},
     "output_type": "execute_result"
    }
   ],
   "source": [
    "varss_aceSwe.columns"
   ]
  },
  {
   "cell_type": "code",
   "execution_count": 30,
   "metadata": {},
   "outputs": [],
   "source": [
    "import asyncio\n",
    "import time\n",
    "def background(f):\n",
    "    def wrapped(*args, **kwargs):\n",
    "        return asyncio.get_event_loop().run_in_executor(None, f, *args, **kwargs)\n",
    "\n",
    "    return wrapped\n",
    "\n",
    "# @background\n",
    "def calcLNAN(i):\n",
    "    Bmodels = ['OPDYN','OPQUIET','T01QUIET','T01STORM','T89','T96','T05']\n",
    "    # for i in range(varss_aceSwe.shape[0]):\n",
    "    dat = {\n",
    "                'Kp'     : np.array([varss_aceSwe.iloc[i]['Kp']]),\n",
    "                'Dst'    : np.array([varss_aceSwe.iloc[i]['SYM_H']]),\n",
    "                'dens'   : np.array([varss_aceSwe.iloc[i]['proton_density']]),\n",
    "                'velo'   : np.array([varss_aceSwe.iloc[i]['flow_speed']]),\n",
    "                'Pdyn'   : np.array([varss_aceSwe.iloc[i]['Pressure']]),\n",
    "                'ByIMF'  : np.array([varss_aceSwe.iloc[i]['BY_GSM']]),\n",
    "                'BzIMF'  : np.array([varss_aceSwe.iloc[i]['BZ_GSM']]),\n",
    "                'G1'     : np.array([1.02966]),\n",
    "                'G2'     : np.array([0.54933]),\n",
    "                'G3'     : np.array([0.81399]),\n",
    "                'W1'     : np.array([0.12244]),\n",
    "                'W2'     : np.array([0.2514 ]),\n",
    "                'W3'     : np.array([0.0892 ]),\n",
    "                'W4'     : np.array([0.0478 ]),\n",
    "                'W5'     : np.array([0.2258 ]),\n",
    "                'W6'     : np.array([1.0461 ]),\n",
    "                'Year'   : np.array([varss_aceSwe.index[i].year]),\n",
    "                'DOY'    : np.array([varss_aceSwe.iloc[i]['DOY']]),\n",
    "                'Hr'     : np.array([varss_aceSwe.iloc[i]['HRS']]),\n",
    "                'PA'     : np.array([87.3875])}\n",
    "        \n",
    "    return sl.LANLmax(dat, Bmodels)"
   ]
  },
  {
   "cell_type": "code",
   "execution_count": 31,
   "metadata": {},
   "outputs": [],
   "source": [
    "outs = []\n",
    "for i in range(varss_aceSwe.shape[0]):\n",
    "    outs.append(calcLNAN(i))"
   ]
  },
  {
   "cell_type": "code",
   "execution_count": 32,
   "metadata": {},
   "outputs": [
    {
     "data": {
      "text/plain": [
       "{'OPDYN': array([nan]),\n",
       " 'OPQUIET': array([nan]),\n",
       " 'T01QUIET': array([nan]),\n",
       " 'T01STORM': array([nan]),\n",
       " 'T89': array([nan]),\n",
       " 'T96': array([nan]),\n",
       " 'T05': array([nan])}"
      ]
     },
     "execution_count": 32,
     "metadata": {},
     "output_type": "execute_result"
    }
   ],
   "source": [
    "outs[2]"
   ]
  },
  {
   "cell_type": "code",
   "execution_count": 33,
   "metadata": {},
   "outputs": [],
   "source": [
    "df = pd.DataFrame(outs)"
   ]
  },
  {
   "cell_type": "code",
   "execution_count": 28,
   "metadata": {},
   "outputs": [],
   "source": [
    "\n",
    "async def calcLNAN():\n",
    "    Bmodels = ['OPDYN','OPQUIET','T01QUIET','T01STORM','T89','T96','T05']\n",
    "    # for i in range(varss_aceSwe.shape[0]):\n",
    "    outs = []\n",
    "    for i in range(varss_aceSwe.shape[0]):\n",
    "        dat = {\n",
    "                    'Kp'     : np.array([varss_aceSwe.iloc[i]['Kp']]),\n",
    "                    'Dst'    : np.array([varss_aceSwe.iloc[i]['SYM_H']]),\n",
    "                    'dens'   : np.array([varss_aceSwe.iloc[i]['proton_density']]),\n",
    "                    'velo'   : np.array([varss_aceSwe.iloc[i]['flow_speed']]),\n",
    "                    'Pdyn'   : np.array([varss_aceSwe.iloc[i]['Pressure']]),\n",
    "                    'ByIMF'  : np.array([varss_aceSwe.iloc[i]['BY_GSM']]),\n",
    "                    'BzIMF'  : np.array([varss_aceSwe.iloc[i]['BZ_GSM']]),\n",
    "                    'G1'     : np.array([1.02966]),\n",
    "                    'G2'     : np.array([0.54933]),\n",
    "                    'G3'     : np.array([0.81399]),\n",
    "                    'W1'     : np.array([0.12244]),\n",
    "                    'W2'     : np.array([0.2514 ]),\n",
    "                    'W3'     : np.array([0.0892 ]),\n",
    "                    'W4'     : np.array([0.0478 ]),\n",
    "                    'W5'     : np.array([0.2258 ]),\n",
    "                    'W6'     : np.array([1.0461 ]),\n",
    "                    'Year'   : np.array([varss_aceSwe.index[i].year]),\n",
    "                    'DOY'    : np.array([varss_aceSwe.iloc[i]['DOY']]),\n",
    "                    'Hr'     : np.array([varss_aceSwe.iloc[i]['HRS']]),\n",
    "                    'PA'     : np.array([87.3875])}\n",
    "        outs.append(sl.LANLmax(dat, Bmodels))\n",
    "        \n",
    "    return outs"
   ]
  },
  {
   "cell_type": "code",
   "execution_count": 76,
   "metadata": {},
   "outputs": [],
   "source": [
    "expected_lmax = {'OPDYN'   : np.array([10.6278]),\n",
    "                          'OPQUIET' : np.array([9.3352]),\n",
    "                          'T01QUIET': np.array([10.0538]),\n",
    "                          'T01STORM': np.array([9.9300]),\n",
    "                          'T89'     : np.array([8.2888]),\n",
    "                          'T96'     : np.array([8.2410]),\n",
    "                          'T05'    : np.array([9.9295])}"
   ]
  },
  {
   "cell_type": "code",
   "execution_count": 79,
   "metadata": {},
   "outputs": [
    {
     "data": {
      "text/plain": [
       "{'OPDYN': array([10.62587259]),\n",
       " 'OPQUIET': array([9.33781189]),\n",
       " 'T01QUIET': array([10.0300971]),\n",
       " 'T01STORM': array([9.91675895]),\n",
       " 'T89': array([7.27245914]),\n",
       " 'T96': array([9.26556856]),\n",
       " 'T05': array([9.90567697])}"
      ]
     },
     "execution_count": 79,
     "metadata": {},
     "output_type": "execute_result"
    }
   ],
   "source": [
    "actual"
   ]
  },
  {
   "cell_type": "code",
   "execution_count": 9,
   "metadata": {},
   "outputs": [
    {
     "ename": "NameError",
     "evalue": "name 'Bmodels' is not defined",
     "output_type": "error",
     "traceback": [
      "\u001b[0;31m---------------------------------------------------------------------------\u001b[0m",
      "\u001b[0;31mNameError\u001b[0m                                 Traceback (most recent call last)",
      "\u001b[1;32m/home/jose/python_projects/lastClosedDS_LANLstar/calcMaxLtar.ipynb Cell 14'\u001b[0m in \u001b[0;36m<cell line: 1>\u001b[0;34m()\u001b[0m\n\u001b[0;32m----> <a href='vscode-notebook-cell:/home/jose/python_projects/lastClosedDS_LANLstar/calcMaxLtar.ipynb#ch0000013?line=0'>1</a>\u001b[0m \u001b[39mfor\u001b[39;00m key \u001b[39min\u001b[39;00m Bmodels:\n\u001b[1;32m      <a href='vscode-notebook-cell:/home/jose/python_projects/lastClosedDS_LANLstar/calcMaxLtar.ipynb#ch0000013?line=1'>2</a>\u001b[0m     np\u001b[39m.\u001b[39mtesting\u001b[39m.\u001b[39massert_almost_equal(expected_lmax[key], actual[key], decimal\u001b[39m=\u001b[39m\u001b[39m4\u001b[39m)\n",
      "\u001b[0;31mNameError\u001b[0m: name 'Bmodels' is not defined"
     ]
    }
   ],
   "source": [
    "for key in Bmodels:\n",
    "    np.testing.assert_almost_equal(expected_lmax[key], actual[key], decimal=4)"
   ]
  },
  {
   "cell_type": "code",
   "execution_count": 5,
   "metadata": {},
   "outputs": [],
   "source": [
    "\n"
   ]
  },
  {
   "cell_type": "code",
   "execution_count": 57,
   "metadata": {},
   "outputs": [
    {
     "data": {
      "text/plain": [
       "Ticktock( [Timestamp('2014-03-31 00:00:05.752000+0000', tz='UTC')\n",
       " Timestamp('2014-03-31 00:00:16.585000+0000', tz='UTC')\n",
       " Timestamp('2014-03-31 00:00:27.417000+0000', tz='UTC') ...\n",
       " Timestamp('2014-04-13 23:59:15.501000+0000', tz='UTC')\n",
       " Timestamp('2014-04-13 23:59:26.326000+0000', tz='UTC')\n",
       " Timestamp('2014-04-13 23:59:37.151000+0000', tz='UTC')], dtype=UTC)"
      ]
     },
     "execution_count": 57,
     "metadata": {},
     "output_type": "execute_result"
    }
   ],
   "source": [
    "spt.Ticktock(df_rept.index)"
   ]
  },
  {
   "cell_type": "code",
   "execution_count": 10,
   "metadata": {},
   "outputs": [],
   "source": [
    "LCDS = ib.find_LCDS(spt.Ticktock(df_rept.index[0:1], 'ISO'),alpha=86, extMag='T05')"
   ]
  },
  {
   "cell_type": "code",
   "execution_count": 11,
   "metadata": {},
   "outputs": [
    {
     "data": {
      "text/plain": [
       "{'LCDS': dmarray([9.16306926]),\n",
       " 'K': dmarray([6.46376187e-05]),\n",
       " 'UTC': dmarray([Timestamp('2014-03-31 00:00:05.752000')], dtype=object),\n",
       " 'AlphaEq': dmarray([86])}"
      ]
     },
     "execution_count": 11,
     "metadata": {},
     "output_type": "execute_result"
    }
   ],
   "source": [
    "LCDS"
   ]
  },
  {
   "cell_type": "code",
   "execution_count": 2,
   "metadata": {},
   "outputs": [],
   "source": [
    "with open(f'/home/jose/python_projects/rbsp_flux_sw_sea/dataJson/CME_enhancement_electronFluxCut_Omni.json', 'r') as f:\n",
    "\tdataFlux = json.load(f)\n",
    "with open(f'/home/jose/python_projects/rbsp_flux_sw_sea/dataJson/CME_enhancement_CutKp.json', 'r') as f:\n",
    "\tdataFlux_Kp = json.load(f)"
   ]
  },
  {
   "cell_type": "code",
   "execution_count": 75,
   "metadata": {},
   "outputs": [
    {
     "data": {
      "text/plain": [
       "dict_keys(['2012-11-13 03:00:00', '2013-03-17 09:00:00', '2013-05-25 00:00:00', '2013-07-10 03:00:00', '2013-10-02 06:00:00', '2014-02-08 12:00:00', '2014-02-19 09:00:00', '2014-04-12 06:00:00', '2015-03-17 15:00:00', '2015-05-12 09:00:00', '2015-07-11 06:00:00', '2015-11-07 06:00:00'])"
      ]
     },
     "execution_count": 75,
     "metadata": {},
     "output_type": "execute_result"
    }
   ],
   "source": [
    "dataFlux.keys()"
   ]
  },
  {
   "cell_type": "code",
   "execution_count": 55,
   "metadata": {},
   "outputs": [
    {
     "data": {
      "text/plain": [
       "[<matplotlib.lines.Line2D at 0x7f6b66fe30d0>]"
      ]
     },
     "execution_count": 55,
     "metadata": {},
     "output_type": "execute_result"
    },
    {
     "data": {
      "image/png": "[encoded data removed]",
      "text/plain": [
       "<Figure size 432x288 with 1 Axes>"
      ]
     },
     "metadata": {
      "needs_background": "light"
     },
     "output_type": "display_data"
    }
   ],
   "source": [
    "plt.plot(kp_intep)"
   ]
  },
  {
   "cell_type": "code",
   "execution_count": 59,
   "metadata": {},
   "outputs": [
    {
     "data": {
      "text/plain": [
       "1151"
      ]
     },
     "execution_count": 59,
     "metadata": {},
     "output_type": "execute_result"
    }
   ],
   "source": [
    "len(dataFlux['2015-03-17 15:00:00']['data']['SYM_H'])"
   ]
  },
  {
   "cell_type": "code",
   "execution_count": 91,
   "metadata": {},
   "outputs": [],
   "source": [
    "def calcLNAN3(date, dataOm, dataKp):\n",
    "    nn = len(dataFlux[date]['data']['SYM_H'])\n",
    "    Bmodels = ['OPDYN','OPQUIET','T01QUIET','T01STORM','T89','T96','T05']\n",
    "    # for i in range(varss_aceSwe.shape[0]):\n",
    "    tt = dataKp[date]['data']['Kp']\n",
    "    fls = interp.interp1d((np.arange(0, len(tt))), tt, bounds_error=False)\n",
    "    lsnewy = np.linspace(0, len(tt), nn)\n",
    "    kp_intep = fls(lsnewy)\n",
    "    outs = []\n",
    "    for i in range(nn):\n",
    "        ddatae = pd.to_datetime(dataOm[date]['time'][i])\n",
    "        yys = ddatae.year\n",
    "        doys = ddatae.strftime('%j')\n",
    "        housr = ((ddatae.hour * 60) + ddatae.minute) / 60 \n",
    "        dat = {\n",
    "                    'Kp'     : np.array([kp_intep[i]]),\n",
    "                    'Dst'    : np.array([dataOm[date]['data']['SYM_H'][i]]),\n",
    "                    'dens'   : np.array([dataOm[date]['data']['proton_density'][i]]),\n",
    "                    'velo'   : np.array([dataOm[date]['data']['flow_speed'][i]]),\n",
    "                    'Pdyn'   : np.array([dataOm[date]['data']['Pressure'][i]]),\n",
    "                    'ByIMF'  : np.array([dataOm[date]['data']['BY_GSM'][i]]),\n",
    "                    'BzIMF'  : np.array([dataOm[date]['data']['BZ_GSM'][i]]),\n",
    "                    'G1'     : np.array([1.02966]),\n",
    "                    'G2'     : np.array([0.54933]),\n",
    "                    'G3'     : np.array([0.81399]),\n",
    "                    'W1'     : np.array([0.12244]),\n",
    "                    'W2'     : np.array([0.2514 ]),\n",
    "                    'W3'     : np.array([0.0892 ]),\n",
    "                    'W4'     : np.array([0.0478 ]),\n",
    "                    'W5'     : np.array([0.2258 ]),\n",
    "                    'W6'     : np.array([1.0461 ]),\n",
    "                    'Year'   : np.array([yys]),\n",
    "                    'DOY'    : np.array([doys]),\n",
    "                    'Hr'     : np.array([housr]),\n",
    "                    'PA'     : np.array([87.3875])}\n",
    "        \n",
    "        outs.append(float(sl.LANLmax(dat, Bmodels)['T05'][0]))\n",
    "            \n",
    "    return outs"
   ]
  },
  {
   "cell_type": "code",
   "execution_count": 92,
   "metadata": {},
   "outputs": [],
   "source": [
    "ss = calcLNAN3('2015-03-17 15:00:00', dataFlux, dataFlux_Kp)"
   ]
  },
  {
   "cell_type": "code",
   "execution_count": 93,
   "metadata": {},
   "outputs": [
    {
     "data": {
      "text/plain": [
       "[8.746929840116893]"
      ]
     },
     "execution_count": 93,
     "metadata": {},
     "output_type": "execute_result"
    }
   ],
   "source": [
    "ss"
   ]
  },
  {
   "cell_type": "code",
   "execution_count": 77,
   "metadata": {},
   "outputs": [],
   "source": [
    "cz = pd.DataFrame(ss)"
   ]
  },
  {
   "cell_type": "code",
   "execution_count": 80,
   "metadata": {},
   "outputs": [
    {
     "data": {
      "text/html": [
       "<div>\n",
       "<style scoped>\n",
       "    .dataframe tbody tr th:only-of-type {\n",
       "        vertical-align: middle;\n",
       "    }\n",
       "\n",
       "    .dataframe tbody tr th {\n",
       "        vertical-align: top;\n",
       "    }\n",
       "\n",
       "    .dataframe thead th {\n",
       "        text-align: right;\n",
       "    }\n",
       "</style>\n",
       "<table border=\"1\" class=\"dataframe\">\n",
       "  <thead>\n",
       "    <tr style=\"text-align: right;\">\n",
       "      <th></th>\n",
       "      <th>OPDYN</th>\n",
       "      <th>OPQUIET</th>\n",
       "      <th>T01QUIET</th>\n",
       "      <th>T01STORM</th>\n",
       "      <th>T89</th>\n",
       "      <th>T96</th>\n",
       "      <th>T05</th>\n",
       "    </tr>\n",
       "  </thead>\n",
       "  <tbody>\n",
       "    <tr>\n",
       "      <th>0</th>\n",
       "      <td>[9.379130612206541]</td>\n",
       "      <td>[10.476702021702096]</td>\n",
       "      <td>[8.417264978784052]</td>\n",
       "      <td>[7.198708443923383]</td>\n",
       "      <td>[8.36654942589998]</td>\n",
       "      <td>[8.50516842398342]</td>\n",
       "      <td>[8.746929840116893]</td>\n",
       "    </tr>\n",
       "    <tr>\n",
       "      <th>1</th>\n",
       "      <td>[9.36914932631629]</td>\n",
       "      <td>[10.476420756832033]</td>\n",
       "      <td>[8.460448173876957]</td>\n",
       "      <td>[7.188855419333255]</td>\n",
       "      <td>[8.407570822382514]</td>\n",
       "      <td>[8.478703936764617]</td>\n",
       "      <td>[8.746000090578109]</td>\n",
       "    </tr>\n",
       "    <tr>\n",
       "      <th>2</th>\n",
       "      <td>[9.364336893339019]</td>\n",
       "      <td>[10.476072067508818]</td>\n",
       "      <td>[8.544619056354897]</td>\n",
       "      <td>[7.187501355681938]</td>\n",
       "      <td>[8.410782910117407]</td>\n",
       "      <td>[8.488885266409824]</td>\n",
       "      <td>[8.766473388361597]</td>\n",
       "    </tr>\n",
       "    <tr>\n",
       "      <th>3</th>\n",
       "      <td>[9.364269175008523]</td>\n",
       "      <td>[10.475620866358764]</td>\n",
       "      <td>[8.610747921603602]</td>\n",
       "      <td>[7.188990235745457]</td>\n",
       "      <td>[8.394185110186704]</td>\n",
       "      <td>[8.491427937748949]</td>\n",
       "      <td>[8.791903699607804]</td>\n",
       "    </tr>\n",
       "    <tr>\n",
       "      <th>4</th>\n",
       "      <td>[9.375774064066885]</td>\n",
       "      <td>[10.474992349863149]</td>\n",
       "      <td>[8.64571200222626]</td>\n",
       "      <td>[7.1886430338939675]</td>\n",
       "      <td>[8.366343793721772]</td>\n",
       "      <td>[8.487249055727581]</td>\n",
       "      <td>[8.808527576908823]</td>\n",
       "    </tr>\n",
       "  </tbody>\n",
       "</table>\n",
       "</div>"
      ],
      "text/plain": [
       "                 OPDYN               OPQUIET             T01QUIET  \\\n",
       "0  [9.379130612206541]  [10.476702021702096]  [8.417264978784052]   \n",
       "1   [9.36914932631629]  [10.476420756832033]  [8.460448173876957]   \n",
       "2  [9.364336893339019]  [10.476072067508818]  [8.544619056354897]   \n",
       "3  [9.364269175008523]  [10.475620866358764]  [8.610747921603602]   \n",
       "4  [9.375774064066885]  [10.474992349863149]   [8.64571200222626]   \n",
       "\n",
       "               T01STORM                  T89                  T96  \\\n",
       "0   [7.198708443923383]   [8.36654942589998]   [8.50516842398342]   \n",
       "1   [7.188855419333255]  [8.407570822382514]  [8.478703936764617]   \n",
       "2   [7.187501355681938]  [8.410782910117407]  [8.488885266409824]   \n",
       "3   [7.188990235745457]  [8.394185110186704]  [8.491427937748949]   \n",
       "4  [7.1886430338939675]  [8.366343793721772]  [8.487249055727581]   \n",
       "\n",
       "                   T05  \n",
       "0  [8.746929840116893]  \n",
       "1  [8.746000090578109]  \n",
       "2  [8.766473388361597]  \n",
       "3  [8.791903699607804]  \n",
       "4  [8.808527576908823]  "
      ]
     },
     "execution_count": 80,
     "metadata": {},
     "output_type": "execute_result"
    }
   ],
   "source": [
    "cz.head()"
   ]
  },
  {
   "cell_type": "code",
   "execution_count": 83,
   "metadata": {},
   "outputs": [],
   "source": [
    "cz05 = [float(x[0]) for x in cz['T05']]\n",
    "cz96 = [float(x[0]) for x in cz['T96']]\n",
    "cz89 = [float(x[0]) for x in cz['T89']]\n",
    "czT01STORM = [float(x[0]) for x in cz['T01STORM']]"
   ]
  },
  {
   "cell_type": "code",
   "execution_count": 85,
   "metadata": {},
   "outputs": [
    {
     "data": {
      "text/plain": [
       "[<matplotlib.lines.Line2D at 0x7f6b676227a0>]"
      ]
     },
     "execution_count": 85,
     "metadata": {},
     "output_type": "execute_result"
    },
    {
     "data": {
      "image/png": "[encoded data removed]",
      "text/plain": [
       "<Figure size 432x288 with 1 Axes>"
      ]
     },
     "metadata": {
      "needs_background": "light"
     },
     "output_type": "display_data"
    }
   ],
   "source": [
    "plt.plot(cz05)\n",
    "# plt.plot(cz96)\n",
    "# plt.plot(cz89)\n",
    "# plt.plot(czT01STORM)"
   ]
  },
  {
   "cell_type": "code",
   "execution_count": 74,
   "metadata": {},
   "outputs": [
    {
     "data": {
      "text/plain": [
       "[<matplotlib.lines.Line2D at 0x7f6b67567190>]"
      ]
     },
     "execution_count": 74,
     "metadata": {},
     "output_type": "execute_result"
    },
    {
     "data": {
      "image/png": "[encoded data removed]",
      "text/plain": [
       "<Figure size 432x288 with 1 Axes>"
      ]
     },
     "metadata": {
      "needs_background": "light"
     },
     "output_type": "display_data"
    }
   ],
   "source": [
    "plt.plot(dataFlux['2012-11-13 03:00:00']['data']['proton_density'])"
   ]
  },
  {
   "cell_type": "code",
   "execution_count": 53,
   "metadata": {},
   "outputs": [],
   "source": [
    "LCDS = ib.find_LCDS(spt.Ticktock(ttime, 'ISO'),alpha=90, extMag='T89')"
   ]
  },
  {
   "cell_type": "code",
   "execution_count": 55,
   "metadata": {},
   "outputs": [
    {
     "data": {
      "text/plain": [
       "[<matplotlib.lines.Line2D at 0x7effc70fd690>]"
      ]
     },
     "execution_count": 55,
     "metadata": {},
     "output_type": "execute_result"
    },
    {
     "data": {
      "image/png": "[encoded data removed]",
      "text/plain": [
       "<Figure size 432x288 with 1 Axes>"
      ]
     },
     "metadata": {
      "needs_background": "light"
     },
     "output_type": "display_data"
    }
   ],
   "source": [
    "plt.plot(LCDS['LCDS'])"
   ]
  },
  {
   "cell_type": "code",
   "execution_count": 35,
   "metadata": {},
   "outputs": [
    {
     "data": {
      "text/plain": [
       "['2012-10-04 15:00:00.000000',\n",
       " '2012-10-04 18:00:00.000000',\n",
       " '2012-10-04 21:00:00.000000',\n",
       " '2012-10-05 00:00:00.000000',\n",
       " '2012-10-05 03:00:00.000000',\n",
       " '2012-10-05 06:00:00.000000',\n",
       " '2012-10-05 09:00:00.000000',\n",
       " '2012-10-05 12:00:00.000000',\n",
       " '2012-10-05 15:00:00.000000',\n",
       " '2012-10-05 18:00:00.000000',\n",
       " '2012-10-05 21:00:00.000000',\n",
       " '2012-10-06 00:00:00.000000',\n",
       " '2012-10-06 03:00:00.000000',\n",
       " '2012-10-06 06:00:00.000000',\n",
       " '2012-10-06 09:00:00.000000',\n",
       " '2012-10-06 12:00:00.000000',\n",
       " '2012-10-06 15:00:00.000000',\n",
       " '2012-10-06 18:00:00.000000',\n",
       " '2012-10-06 21:00:00.000000',\n",
       " '2012-10-07 00:00:00.000000',\n",
       " '2012-10-07 03:00:00.000000',\n",
       " '2012-10-07 06:00:00.000000',\n",
       " '2012-10-07 09:00:00.000000',\n",
       " '2012-10-07 12:00:00.000000',\n",
       " '2012-10-07 15:00:00.000000',\n",
       " '2012-10-07 18:00:00.000000',\n",
       " '2012-10-07 21:00:00.000000',\n",
       " '2012-10-08 00:00:00.000000',\n",
       " '2012-10-08 03:00:00.000000',\n",
       " '2012-10-08 06:00:00.000000',\n",
       " '2012-10-08 09:00:00.000000',\n",
       " '2012-10-08 12:00:00.000000',\n",
       " '2012-10-08 15:00:00.000000',\n",
       " '2012-10-08 18:00:00.000000',\n",
       " '2012-10-08 21:00:00.000000',\n",
       " '2012-10-09 00:00:00.000000',\n",
       " '2012-10-09 03:00:00.000000',\n",
       " '2012-10-09 06:00:00.000000',\n",
       " '2012-10-09 09:00:00.000000',\n",
       " '2012-10-09 12:00:00.000000',\n",
       " '2012-10-09 15:00:00.000000',\n",
       " '2012-10-09 18:00:00.000000',\n",
       " '2012-10-09 21:00:00.000000',\n",
       " '2012-10-10 00:00:00.000000',\n",
       " '2012-10-10 03:00:00.000000',\n",
       " '2012-10-10 06:00:00.000000',\n",
       " '2012-10-10 09:00:00.000000',\n",
       " '2012-10-10 12:00:00.000000',\n",
       " '2012-10-10 15:00:00.000000',\n",
       " '2012-10-10 18:00:00.000000',\n",
       " '2012-10-10 21:00:00.000000',\n",
       " '2012-10-11 00:00:00.000000',\n",
       " '2012-10-11 03:00:00.000000',\n",
       " '2012-10-11 06:00:00.000000',\n",
       " '2012-10-11 09:00:00.000000',\n",
       " '2012-10-11 12:00:00.000000',\n",
       " '2012-10-11 15:00:00.000000',\n",
       " '2012-10-11 18:00:00.000000',\n",
       " '2012-10-11 21:00:00.000000',\n",
       " '2012-10-12 00:00:00.000000',\n",
       " '2012-10-12 03:00:00.000000',\n",
       " '2012-10-12 06:00:00.000000',\n",
       " '2012-10-12 09:00:00.000000',\n",
       " '2012-10-12 12:00:00.000000',\n",
       " '2012-10-12 15:00:00.000000']"
      ]
     },
     "execution_count": 35,
     "metadata": {},
     "output_type": "execute_result"
    }
   ],
   "source": [
    "ttime"
   ]
  },
  {
   "cell_type": "code",
   "execution_count": null,
   "metadata": {},
   "outputs": [],
   "source": []
  }
 ],
 "metadata": {
  "interpreter": {
   "hash": "e7370f93d1d0cde622a1f8e1c04877d8463912d04d973331ad4851f04de6915a"
  },
  "kernelspec": {
   "display_name": "Python 3.10.2 64-bit",
   "language": "python",
   "name": "python3"
  },
  "language_info": {
   "codemirror_mode": {
    "name": "ipython",
    "version": 3
   },
   "file_extension": ".py",
   "mimetype": "text/x-python",
   "name": "python",
   "nbconvert_exporter": "python",
   "pygments_lexer": "ipython3",
   "version": "3.10.2"
  },
  "orig_nbformat": 4
 },
 "nbformat": 4,
 "nbformat_minor": 2
}
