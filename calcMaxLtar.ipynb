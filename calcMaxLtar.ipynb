{
 "cells": [
  {
   "cell_type": "code",
   "execution_count": 54,
   "metadata": {},
   "outputs": [],
   "source": [
    "\n",
    "import pytz\n",
    "import spacepy.irbempy as ib\n",
    "import spacepy.time as spt\n",
    "import spacepy.LANLstar as sl\n",
    "from spacepy import radbelt as rb\n",
    "import datetime as dt\n",
    "import spacepy.time as spt\n",
    "import spacepy.omni as om\n",
    "import numpy as np\n",
    "from pysatdata.loaders.load import *\n",
    "import datetime\n",
    "from download_kp import down_kp\n",
    "import pandas as pd"
   ]
  },
  {
   "cell_type": "code",
   "execution_count": 7,
   "metadata": {},
   "outputs": [],
   "source": [
    "stringInstant = '2014-04-07'\n",
    "\n",
    "# stringInstant = dataT.index[0].split(\" \")[0]\n",
    "instDate = datetime.datetime.strptime(stringInstant, '%Y-%m-%d')\n",
    "\n",
    "\n",
    "inidate = instDate - datetime.timedelta(days = 6)\n",
    "enddate = instDate + datetime.timedelta(days = 6)\n",
    "trange0 = [inidate.strftime('%Y-%m-%d'), enddate.strftime('%Y-%m-%d')]\n",
    "trange= [(inidate - datetime.timedelta(days = 1)).strftime('%Y-%m-%d'),\n",
    "         (enddate + datetime.timedelta(days = 1)).strftime('%Y-%m-%d')]\n",
    "\n",
    "config_file_sat = '/home/jose/python_projects/pySatData/pysatdata/resources/config_file.json'\n",
    "\n",
    "lshellOrlStar = 'L-Star'\n",
    "probe = 'a'"
   ]
  },
  {
   "cell_type": "code",
   "execution_count": 4,
   "metadata": {},
   "outputs": [
    {
     "name": "stderr",
     "output_type": "stream",
     "text": [
      "2022-03-02 14:51:21.420 | INFO     | pysatdata.loaders.load:load_sat:49 - Local Download Path: /home/jose/sat_data/omni\n",
      "2022-03-02 14:51:21.421 | WARNING  | pysatdata.loaders.load:load_sat:54 - Selecting the sub path key\n",
      "2022-03-02 14:51:21.421 | INFO     | pysatdata.utils.library_functions:testRemoteDir:233 - Testing Connection\n",
      "2022-03-02 14:51:22.026 | WARNING  | pysatdata.utils.library_functions:testRemoteDir:239 - Using https://spdf.gsfc.nasa.gov/pub/data/omni/...\n",
      "2022-03-02 14:51:22.029 | INFO     | pysatdata.loaders.load:load_sat:58 - Remotepath: https://spdf.gsfc.nasa.gov/pub/data/omni/\n",
      "2022-03-02 14:51:22.031 | INFO     | pysatdata.loaders.load:load_sat:69 - Remote_file_path: omni_cdaweb/hro_1min/%Y/omni_hro_1min_%Y%m01_v*.cdf\n",
      "2022-03-02 14:51:22.076 | INFO     | pysatdata.utils.download:download:213 - Downloading remote index: https://spdf.gsfc.nasa.gov/pub/data/omni/omni_cdaweb/hro_1min/2014/\n",
      "2022-03-02 14:51:22.836 | INFO     | pysatdata.utils.download:download_file:72 - File is current: /home/jose/sat_data/omni/omni_cdaweb/hro_1min/2014/omni_hro_1min_20140301_v01.cdf\n",
      "2022-03-02 14:51:23.461 | INFO     | pysatdata.utils.download:download_file:72 - File is current: /home/jose/sat_data/omni/omni_cdaweb/hro_1min/2014/omni_hro_1min_20140401_v01.cdf\n",
      "/home/jose/.local/lib/python3.10/site-packages/erfa/core.py:154: ErfaWarning: ERFA function \"dtf2d\" yielded 1 of \"dubious year (Note 6)\"\n",
      "  warnings.warn('ERFA function \"{}\" yielded {}'.format(func_name, wmsg),\n"
     ]
    }
   ],
   "source": [
    "pytplot.del_data()\n",
    "varss_aceSwe = load_sat(trange=trange, satellite='omni',\n",
    "                    probe=['omni'], rel='rel03',\n",
    "                    instrument='omni_cdaweb',datatype='hro_1min',\n",
    "                    config_file=config_file_sat, downloadonly=False,\n",
    "                    usePandas=True, usePyTplot=False)\n",
    "\n",
    "quants_Swe = pytplot.data_quants['proton_density']\n",
    "time_swe = quants_Swe.coords['time'].values\n",
    "time_dt_swe = [datetime.datetime.fromtimestamp(i, pytz.timezone(\"UTC\")) for i in time_swe]\n",
    "nP = pytplot.data_quants['proton_density'].values\n",
    "bgse_x = pytplot.data_quants['BX_GSE'].values\n",
    "bgse_y = pytplot.data_quants['BY_GSE'].values\n",
    "bgse_z = pytplot.data_quants['BZ_GSE'].values\n",
    "b_total = pytplot.data_quants['F'].values\n",
    "flow_speed = pytplot.data_quants['flow_speed'].values\n",
    "imf = pytplot.data_quants['IMF'].values\n",
    "ae_index = pytplot.data_quants['AE_INDEX'].values\n",
    "symH_index = pytplot.data_quants['SYM_H'].values\n",
    "\n",
    "\n",
    "varss_aceSwe.index = pd.to_datetime(time_dt_swe)\n"
   ]
  },
  {
   "cell_type": "code",
   "execution_count": 13,
   "metadata": {},
   "outputs": [],
   "source": [
    "doys = [x.strftime('%j') for x in varss_aceSwe.index]\n",
    "varss_aceSwe['DOY'] = doys"
   ]
  },
  {
   "cell_type": "code",
   "execution_count": 14,
   "metadata": {},
   "outputs": [
    {
     "data": {
      "text/html": [
       "<div>\n",
       "<style scoped>\n",
       "    .dataframe tbody tr th:only-of-type {\n",
       "        vertical-align: middle;\n",
       "    }\n",
       "\n",
       "    .dataframe tbody tr th {\n",
       "        vertical-align: top;\n",
       "    }\n",
       "\n",
       "    .dataframe thead th {\n",
       "        text-align: right;\n",
       "    }\n",
       "</style>\n",
       "<table border=\"1\" class=\"dataframe\">\n",
       "  <thead>\n",
       "    <tr style=\"text-align: right;\">\n",
       "      <th></th>\n",
       "      <th>IMF</th>\n",
       "      <th>PLS</th>\n",
       "      <th>IMF_PTS</th>\n",
       "      <th>PLS_PTS</th>\n",
       "      <th>percent_interp</th>\n",
       "      <th>Timeshift</th>\n",
       "      <th>RMS_Timeshift</th>\n",
       "      <th>RMS_phase</th>\n",
       "      <th>Time_btwn_obs</th>\n",
       "      <th>F</th>\n",
       "      <th>BX_GSE</th>\n",
       "      <th>BY_GSE</th>\n",
       "      <th>BZ_GSE</th>\n",
       "      <th>BY_GSM</th>\n",
       "      <th>BZ_GSM</th>\n",
       "      <th>RMS_SD_B</th>\n",
       "      <th>RMS_SD_fld_vec</th>\n",
       "      <th>flow_speed</th>\n",
       "      <th>Vx</th>\n",
       "      <th>Vy</th>\n",
       "      <th>Vz</th>\n",
       "      <th>proton_density</th>\n",
       "      <th>T</th>\n",
       "      <th>Pressure</th>\n",
       "      <th>E</th>\n",
       "      <th>Beta</th>\n",
       "      <th>Mach_num</th>\n",
       "      <th>Mgs_mach_num</th>\n",
       "      <th>x</th>\n",
       "      <th>y</th>\n",
       "      <th>z</th>\n",
       "      <th>BSN_x</th>\n",
       "      <th>BSN_y</th>\n",
       "      <th>BSN_z</th>\n",
       "      <th>AE_INDEX</th>\n",
       "      <th>AL_INDEX</th>\n",
       "      <th>AU_INDEX</th>\n",
       "      <th>SYM_D</th>\n",
       "      <th>SYM_H</th>\n",
       "      <th>ASY_D</th>\n",
       "      <th>ASY_H</th>\n",
       "      <th>PC_N_INDEX</th>\n",
       "      <th>DOY</th>\n",
       "    </tr>\n",
       "  </thead>\n",
       "  <tbody>\n",
       "    <tr>\n",
       "      <th>2014-03-01 00:00:00+00:00</th>\n",
       "      <td>51</td>\n",
       "      <td>51</td>\n",
       "      <td>2</td>\n",
       "      <td>1</td>\n",
       "      <td>100</td>\n",
       "      <td>5432</td>\n",
       "      <td>18</td>\n",
       "      <td>0.01</td>\n",
       "      <td>4</td>\n",
       "      <td>4.67</td>\n",
       "      <td>3.10</td>\n",
       "      <td>-3.40</td>\n",
       "      <td>0.42</td>\n",
       "      <td>-3.11</td>\n",
       "      <td>-1.43</td>\n",
       "      <td>0.01</td>\n",
       "      <td>0.56</td>\n",
       "      <td>396.5</td>\n",
       "      <td>-396.0</td>\n",
       "      <td>18.200001</td>\n",
       "      <td>7.3</td>\n",
       "      <td>6.17</td>\n",
       "      <td>95738.0</td>\n",
       "      <td>1.94</td>\n",
       "      <td>0.57</td>\n",
       "      <td>2.64</td>\n",
       "      <td>10.5</td>\n",
       "      <td>5.8</td>\n",
       "      <td>222.559998</td>\n",
       "      <td>99.0</td>\n",
       "      <td>0.15</td>\n",
       "      <td>13.26</td>\n",
       "      <td>-1.60</td>\n",
       "      <td>-0.22</td>\n",
       "      <td>50</td>\n",
       "      <td>-41</td>\n",
       "      <td>9</td>\n",
       "      <td>-4</td>\n",
       "      <td>-32</td>\n",
       "      <td>25</td>\n",
       "      <td>15</td>\n",
       "      <td>0.55</td>\n",
       "      <td>060</td>\n",
       "    </tr>\n",
       "    <tr>\n",
       "      <th>2014-03-01 00:01:00+00:00</th>\n",
       "      <td>51</td>\n",
       "      <td>51</td>\n",
       "      <td>2</td>\n",
       "      <td>1</td>\n",
       "      <td>100</td>\n",
       "      <td>5484</td>\n",
       "      <td>5</td>\n",
       "      <td>0.00</td>\n",
       "      <td>8</td>\n",
       "      <td>4.71</td>\n",
       "      <td>1.82</td>\n",
       "      <td>-4.21</td>\n",
       "      <td>0.90</td>\n",
       "      <td>-4.05</td>\n",
       "      <td>-1.45</td>\n",
       "      <td>0.00</td>\n",
       "      <td>0.19</td>\n",
       "      <td>396.5</td>\n",
       "      <td>-396.0</td>\n",
       "      <td>18.200001</td>\n",
       "      <td>7.3</td>\n",
       "      <td>6.17</td>\n",
       "      <td>95738.0</td>\n",
       "      <td>1.94</td>\n",
       "      <td>0.57</td>\n",
       "      <td>2.59</td>\n",
       "      <td>10.5</td>\n",
       "      <td>5.8</td>\n",
       "      <td>222.559998</td>\n",
       "      <td>99.0</td>\n",
       "      <td>0.15</td>\n",
       "      <td>13.33</td>\n",
       "      <td>-1.59</td>\n",
       "      <td>-0.20</td>\n",
       "      <td>48</td>\n",
       "      <td>-40</td>\n",
       "      <td>8</td>\n",
       "      <td>-4</td>\n",
       "      <td>-32</td>\n",
       "      <td>24</td>\n",
       "      <td>16</td>\n",
       "      <td>0.56</td>\n",
       "      <td>060</td>\n",
       "    </tr>\n",
       "    <tr>\n",
       "      <th>2014-03-01 00:02:00+00:00</th>\n",
       "      <td>51</td>\n",
       "      <td>99</td>\n",
       "      <td>1</td>\n",
       "      <td>999</td>\n",
       "      <td>100</td>\n",
       "      <td>5525</td>\n",
       "      <td>0</td>\n",
       "      <td>0.00</td>\n",
       "      <td>18</td>\n",
       "      <td>4.77</td>\n",
       "      <td>3.10</td>\n",
       "      <td>-3.56</td>\n",
       "      <td>-0.15</td>\n",
       "      <td>-2.95</td>\n",
       "      <td>-2.00</td>\n",
       "      <td>0.00</td>\n",
       "      <td>0.00</td>\n",
       "      <td>NaN</td>\n",
       "      <td>NaN</td>\n",
       "      <td>NaN</td>\n",
       "      <td>NaN</td>\n",
       "      <td>NaN</td>\n",
       "      <td>NaN</td>\n",
       "      <td>NaN</td>\n",
       "      <td>NaN</td>\n",
       "      <td>NaN</td>\n",
       "      <td>NaN</td>\n",
       "      <td>NaN</td>\n",
       "      <td>NaN</td>\n",
       "      <td>NaN</td>\n",
       "      <td>NaN</td>\n",
       "      <td>13.29</td>\n",
       "      <td>-1.58</td>\n",
       "      <td>-0.18</td>\n",
       "      <td>46</td>\n",
       "      <td>-40</td>\n",
       "      <td>6</td>\n",
       "      <td>-4</td>\n",
       "      <td>-32</td>\n",
       "      <td>24</td>\n",
       "      <td>15</td>\n",
       "      <td>0.53</td>\n",
       "      <td>060</td>\n",
       "    </tr>\n",
       "    <tr>\n",
       "      <th>2014-03-01 00:03:00+00:00</th>\n",
       "      <td>51</td>\n",
       "      <td>99</td>\n",
       "      <td>1</td>\n",
       "      <td>999</td>\n",
       "      <td>100</td>\n",
       "      <td>5565</td>\n",
       "      <td>0</td>\n",
       "      <td>0.00</td>\n",
       "      <td>19</td>\n",
       "      <td>4.78</td>\n",
       "      <td>3.56</td>\n",
       "      <td>-3.15</td>\n",
       "      <td>-0.38</td>\n",
       "      <td>-2.48</td>\n",
       "      <td>-1.98</td>\n",
       "      <td>0.00</td>\n",
       "      <td>0.00</td>\n",
       "      <td>NaN</td>\n",
       "      <td>NaN</td>\n",
       "      <td>NaN</td>\n",
       "      <td>NaN</td>\n",
       "      <td>NaN</td>\n",
       "      <td>NaN</td>\n",
       "      <td>NaN</td>\n",
       "      <td>NaN</td>\n",
       "      <td>NaN</td>\n",
       "      <td>NaN</td>\n",
       "      <td>NaN</td>\n",
       "      <td>NaN</td>\n",
       "      <td>NaN</td>\n",
       "      <td>NaN</td>\n",
       "      <td>13.26</td>\n",
       "      <td>-1.57</td>\n",
       "      <td>-0.16</td>\n",
       "      <td>48</td>\n",
       "      <td>-41</td>\n",
       "      <td>7</td>\n",
       "      <td>-4</td>\n",
       "      <td>-31</td>\n",
       "      <td>24</td>\n",
       "      <td>14</td>\n",
       "      <td>0.53</td>\n",
       "      <td>060</td>\n",
       "    </tr>\n",
       "    <tr>\n",
       "      <th>2014-03-01 00:04:00+00:00</th>\n",
       "      <td>51</td>\n",
       "      <td>99</td>\n",
       "      <td>1</td>\n",
       "      <td>999</td>\n",
       "      <td>100</td>\n",
       "      <td>5607</td>\n",
       "      <td>0</td>\n",
       "      <td>0.00</td>\n",
       "      <td>18</td>\n",
       "      <td>4.74</td>\n",
       "      <td>3.52</td>\n",
       "      <td>-3.11</td>\n",
       "      <td>-0.38</td>\n",
       "      <td>-2.45</td>\n",
       "      <td>-1.96</td>\n",
       "      <td>0.00</td>\n",
       "      <td>0.00</td>\n",
       "      <td>NaN</td>\n",
       "      <td>NaN</td>\n",
       "      <td>NaN</td>\n",
       "      <td>NaN</td>\n",
       "      <td>NaN</td>\n",
       "      <td>NaN</td>\n",
       "      <td>NaN</td>\n",
       "      <td>NaN</td>\n",
       "      <td>NaN</td>\n",
       "      <td>NaN</td>\n",
       "      <td>NaN</td>\n",
       "      <td>NaN</td>\n",
       "      <td>NaN</td>\n",
       "      <td>NaN</td>\n",
       "      <td>13.28</td>\n",
       "      <td>-1.56</td>\n",
       "      <td>-0.14</td>\n",
       "      <td>51</td>\n",
       "      <td>-43</td>\n",
       "      <td>8</td>\n",
       "      <td>-4</td>\n",
       "      <td>-32</td>\n",
       "      <td>23</td>\n",
       "      <td>14</td>\n",
       "      <td>0.51</td>\n",
       "      <td>060</td>\n",
       "    </tr>\n",
       "  </tbody>\n",
       "</table>\n",
       "</div>"
      ],
      "text/plain": [
       "                           IMF  PLS  IMF_PTS  ...  ASY_H  PC_N_INDEX  DOY\n",
       "2014-03-01 00:00:00+00:00   51   51        2  ...     15        0.55  060\n",
       "2014-03-01 00:01:00+00:00   51   51        2  ...     16        0.56  060\n",
       "2014-03-01 00:02:00+00:00   51   99        1  ...     15        0.53  060\n",
       "2014-03-01 00:03:00+00:00   51   99        1  ...     14        0.53  060\n",
       "2014-03-01 00:04:00+00:00   51   99        1  ...     14        0.51  060\n",
       "\n",
       "[5 rows x 43 columns]"
      ]
     },
     "execution_count": 14,
     "metadata": {},
     "output_type": "execute_result"
    }
   ],
   "source": [
    "varss_aceSwe.head()"
   ]
  },
  {
   "cell_type": "code",
   "execution_count": 52,
   "metadata": {},
   "outputs": [
    {
     "name": "stderr",
     "output_type": "stream",
     "text": [
      "2022-03-02 16:21:59.015 | INFO     | pysatdata.loaders.load:load_sat:49 - Local Download Path: /home/jose/sat_data/rbsp\n",
      "2022-03-02 16:21:59.015 | WARNING  | pysatdata.loaders.load:load_sat:54 - Selecting the sub path key\n",
      "2022-03-02 16:21:59.016 | INFO     | pysatdata.utils.library_functions:testRemoteDir:233 - Testing Connection\n",
      "2022-03-02 16:21:59.612 | WARNING  | pysatdata.utils.library_functions:testRemoteDir:239 - Using https://spdf.gsfc.nasa.gov/pub/data/rbsp/...\n",
      "2022-03-02 16:21:59.613 | INFO     | pysatdata.loaders.load:load_sat:58 - Remotepath: https://spdf.gsfc.nasa.gov/pub/data/rbsp/\n",
      "2022-03-02 16:21:59.614 | INFO     | pysatdata.loaders.load:load_sat:69 - Remote_file_path: rbspa/l3/ect/rept/sectors/rel03/%Y/rbspa_rel03_ect-rept-sci-l3_%Y%m%d_v*.cdf\n",
      "2022-03-02 16:21:59.615 | INFO     | pysatdata.utils.download:download:213 - Downloading remote index: https://spdf.gsfc.nasa.gov/pub/data/rbsp/rbspa/l3/ect/rept/sectors/rel03/2014/\n",
      "2022-03-02 16:22:00.719 | INFO     | pysatdata.utils.download:download_file:72 - File is current: /home/jose/sat_data/rbsp/rbspa/l3/ect/rept/sectors/rel03/2014/rbspa_rel03_ect-rept-sci-l3_20140331_v5.0.0.cdf\n",
      "2022-03-02 16:22:01.336 | INFO     | pysatdata.utils.download:download_file:72 - File is current: /home/jose/sat_data/rbsp/rbspa/l3/ect/rept/sectors/rel03/2014/rbspa_rel03_ect-rept-sci-l3_20140401_v5.0.0.cdf\n",
      "2022-03-02 16:22:01.936 | INFO     | pysatdata.utils.download:download_file:72 - File is current: /home/jose/sat_data/rbsp/rbspa/l3/ect/rept/sectors/rel03/2014/rbspa_rel03_ect-rept-sci-l3_20140402_v5.0.0.cdf\n",
      "2022-03-02 16:22:02.532 | INFO     | pysatdata.utils.download:download_file:72 - File is current: /home/jose/sat_data/rbsp/rbspa/l3/ect/rept/sectors/rel03/2014/rbspa_rel03_ect-rept-sci-l3_20140403_v5.0.0.cdf\n",
      "2022-03-02 16:22:03.147 | INFO     | pysatdata.utils.download:download_file:72 - File is current: /home/jose/sat_data/rbsp/rbspa/l3/ect/rept/sectors/rel03/2014/rbspa_rel03_ect-rept-sci-l3_20140404_v5.0.0.cdf\n",
      "2022-03-02 16:22:03.755 | INFO     | pysatdata.utils.download:download_file:72 - File is current: /home/jose/sat_data/rbsp/rbspa/l3/ect/rept/sectors/rel03/2014/rbspa_rel03_ect-rept-sci-l3_20140405_v5.0.0.cdf\n",
      "2022-03-02 16:22:04.374 | INFO     | pysatdata.utils.download:download_file:72 - File is current: /home/jose/sat_data/rbsp/rbspa/l3/ect/rept/sectors/rel03/2014/rbspa_rel03_ect-rept-sci-l3_20140406_v5.0.0.cdf\n",
      "2022-03-02 16:22:04.995 | INFO     | pysatdata.utils.download:download_file:72 - File is current: /home/jose/sat_data/rbsp/rbspa/l3/ect/rept/sectors/rel03/2014/rbspa_rel03_ect-rept-sci-l3_20140407_v5.0.0.cdf\n",
      "2022-03-02 16:22:05.615 | INFO     | pysatdata.utils.download:download_file:72 - File is current: /home/jose/sat_data/rbsp/rbspa/l3/ect/rept/sectors/rel03/2014/rbspa_rel03_ect-rept-sci-l3_20140408_v5.0.0.cdf\n",
      "2022-03-02 16:22:06.234 | INFO     | pysatdata.utils.download:download_file:72 - File is current: /home/jose/sat_data/rbsp/rbspa/l3/ect/rept/sectors/rel03/2014/rbspa_rel03_ect-rept-sci-l3_20140409_v5.0.0.cdf\n",
      "2022-03-02 16:22:06.854 | INFO     | pysatdata.utils.download:download_file:72 - File is current: /home/jose/sat_data/rbsp/rbspa/l3/ect/rept/sectors/rel03/2014/rbspa_rel03_ect-rept-sci-l3_20140410_v5.0.0.cdf\n",
      "2022-03-02 16:22:07.475 | INFO     | pysatdata.utils.download:download_file:72 - File is current: /home/jose/sat_data/rbsp/rbspa/l3/ect/rept/sectors/rel03/2014/rbspa_rel03_ect-rept-sci-l3_20140411_v5.0.0.cdf\n",
      "2022-03-02 16:22:08.094 | INFO     | pysatdata.utils.download:download_file:72 - File is current: /home/jose/sat_data/rbsp/rbspa/l3/ect/rept/sectors/rel03/2014/rbspa_rel03_ect-rept-sci-l3_20140412_v5.0.0.cdf\n",
      "2022-03-02 16:22:08.712 | INFO     | pysatdata.utils.download:download_file:72 - File is current: /home/jose/sat_data/rbsp/rbspa/l3/ect/rept/sectors/rel03/2014/rbspa_rel03_ect-rept-sci-l3_20140413_v5.0.0.cdf\n"
     ]
    }
   ],
   "source": [
    "pytplot.del_data()\n",
    "varss_rept = load_sat(trange=trange, satellite='rbsp',\n",
    "                    probe=[probe], level='3', \n",
    "                    rel='rel03', instrument='rept',\n",
    "                    datatype='sectors',varnames=['FEDU', 'L_star', 'L'],\n",
    "                    config_file=config_file_sat, downloadonly=False, \n",
    "                    usePandas=False, usePyTplot=True)\n",
    "quants_fedu_rept = pytplot.data_quants['FEDU']\n",
    "l_star = pytplot.data_quants['L_star'].values\n",
    "l_m = pytplot.data_quants['L'].values"
   ]
  },
  {
   "cell_type": "code",
   "execution_count": 55,
   "metadata": {},
   "outputs": [],
   "source": [
    "time_rept = quants_fedu_rept.coords['time'].values\n",
    "time_dt_rept = [datetime.datetime.fromtimestamp(i, pytz.timezone(\"UTC\")) for i in time_rept]\n",
    "df_rept = pd.DataFrame(l_star, index=time_dt_rept, columns=['L-Star'])"
   ]
  },
  {
   "cell_type": "code",
   "execution_count": 7,
   "metadata": {},
   "outputs": [
    {
     "name": "stdout",
     "output_type": "stream",
     "text": [
      "Kp_ap_2014.txt\n",
      "Downloading Kp_ap_2014.txt\n",
      "Connected to: ftp.gfz-potsdam.de\n",
      "..\n",
      "Downloaded: Kp_ap_2014.txt\n"
     ]
    },
    {
     "name": "stderr",
     "output_type": "stream",
     "text": [
      "/home/jose/python_projects/lastClosedDS_LANLstar/download_kp.py:98: ResourceWarning: unclosed file <_io.BufferedWriter name='./data_KP/Kp_ap_2014.txt'>\n",
      "  self.ftp.retrbinary(str('RETR ' + filename), open(self.output + filename, 'wb').write)\n",
      "/usr/lib/python3.10/socket.py:776: ResourceWarning: unclosed <socket.socket fd=65, family=AddressFamily.AF_INET, type=SocketKind.SOCK_STREAM, proto=6, laddr=('150.163.55.99', 48292), raddr=('139.17.3.3', 21)>\n",
      "  self._sock = None\n"
     ]
    }
   ],
   "source": [
    "kpDf = down_kp(datetime.datetime.strptime(trange[0], '%Y-%m-%d'), datetime.datetime.strptime(trange[1], '%Y-%m-%d'),\n",
    "                 dataPath='./data_KP/', downloadData=1)"
   ]
  },
  {
   "cell_type": "code",
   "execution_count": 26,
   "metadata": {},
   "outputs": [],
   "source": [
    "dat = {\n",
    "            'Kp'     : np.array([7.7    , 8]),\n",
    "            'Dst'    : np.array([7.7777 , 7.88]),\n",
    "            'dens'   : np.array([4.1011 ,.75]),\n",
    "            'velo'   : np.array([400.101, 400]),\n",
    "            'Pdyn'   : np.array([4.1011 , 4.42]),\n",
    "            'ByIMF'  : np.array([3.7244 ,4]),\n",
    "            'BzIMF'  : np.array([-0.1266,-0.5]),\n",
    "            'G1'     : np.array([1.02966,2]),\n",
    "            'G2'     : np.array([0.54933,0.5]),\n",
    "            'G3'     : np.array([0.81399,0.8]),\n",
    "            'W1'     : np.array([0.12244,0.1]),\n",
    "            'W2'     : np.array([0.2514 ,0.2]),\n",
    "            'W3'     : np.array([0.0892 ,0.08]),\n",
    "            'W4'     : np.array([0.0478 ,0.04]),\n",
    "            'W5'     : np.array([0.2258 ,0.22]),\n",
    "            'W6'     : np.array([1.0461 ,1.5]),\n",
    "            'Year'   : np.array([1996   ,1996]),\n",
    "            'DOY'    : np.array([6      ,6]),\n",
    "            'Hr'     : np.array([1.2444 ,1.2445]),\n",
    "            'PA'     : np.array([57.3875,57.3875])}"
   ]
  },
  {
   "cell_type": "code",
   "execution_count": 31,
   "metadata": {},
   "outputs": [],
   "source": [
    "expected_lmax = {'OPDYN'   : np.array([10.6278]),\n",
    "                          'OPQUIET' : np.array([9.3352]),\n",
    "                          'T01QUIET': np.array([10.0538]),\n",
    "                          'T01STORM': np.array([9.9300]),\n",
    "                          'T89'     : np.array([8.2888]),\n",
    "                          'T96'     : np.array([8.2410]),\n",
    "                          'T05'    : np.array([9.9295])}"
   ]
  },
  {
   "cell_type": "code",
   "execution_count": 32,
   "metadata": {},
   "outputs": [],
   "source": [
    "Bmodels = ['OPDYN','OPQUIET','T01QUIET','T01STORM','T89','T96','T05']"
   ]
  },
  {
   "cell_type": "code",
   "execution_count": 33,
   "metadata": {},
   "outputs": [],
   "source": [
    "actual = sl.LANLmax(dat, Bmodels)"
   ]
  },
  {
   "cell_type": "code",
   "execution_count": 34,
   "metadata": {},
   "outputs": [
    {
     "data": {
      "text/plain": [
       "{'OPDYN': array([10.62784691, 11.09630829]),\n",
       " 'OPQUIET': array([9.33521286, 9.24076426]),\n",
       " 'T01QUIET': array([10.05389968,  8.54816967]),\n",
       " 'T01STORM': array([9.93004853, 2.9197541 ]),\n",
       " 'T89': array([ 7.2537438 , 10.33431322]),\n",
       " 'T96': array([9.24107258, 4.68625851]),\n",
       " 'T05': array([ 9.92951973, 11.82242272])}"
      ]
     },
     "execution_count": 34,
     "metadata": {},
     "output_type": "execute_result"
    }
   ],
   "source": [
    "actual"
   ]
  },
  {
   "cell_type": "code",
   "execution_count": 10,
   "metadata": {},
   "outputs": [],
   "source": [
    "for key in Bmodels:\n",
    "    np.testing.assert_almost_equal(expected_lmax[key], actual[key], decimal=4)"
   ]
  },
  {
   "cell_type": "code",
   "execution_count": 5,
   "metadata": {},
   "outputs": [],
   "source": [
    "from spacepy import irbempy\n"
   ]
  },
  {
   "cell_type": "code",
   "execution_count": 57,
   "metadata": {},
   "outputs": [
    {
     "data": {
      "text/plain": [
       "Ticktock( [Timestamp('2014-03-31 00:00:05.752000+0000', tz='UTC')\n",
       " Timestamp('2014-03-31 00:00:16.585000+0000', tz='UTC')\n",
       " Timestamp('2014-03-31 00:00:27.417000+0000', tz='UTC') ...\n",
       " Timestamp('2014-04-13 23:59:15.501000+0000', tz='UTC')\n",
       " Timestamp('2014-04-13 23:59:26.326000+0000', tz='UTC')\n",
       " Timestamp('2014-04-13 23:59:37.151000+0000', tz='UTC')], dtype=UTC)"
      ]
     },
     "execution_count": 57,
     "metadata": {},
     "output_type": "execute_result"
    }
   ],
   "source": [
    "spt.Ticktock(df_rept.index)"
   ]
  },
  {
   "cell_type": "code",
   "execution_count": 58,
   "metadata": {},
   "outputs": [],
   "source": [
    "LCDS = irbempy.find_LCDS(spt.Ticktock(df_rept.index, 'ISO'),alpha=86, extMag='T05')"
   ]
  },
  {
   "cell_type": "code",
   "execution_count": 13,
   "metadata": {},
   "outputs": [],
   "source": [
    "import spacepy.coordinates as spc"
   ]
  },
  {
   "cell_type": "code",
   "execution_count": 14,
   "metadata": {},
   "outputs": [],
   "source": [
    "t = spt.Ticktock(['2002-02-02T12:00:00', '2002-02-02T12:10:00'], 'ISO')"
   ]
  },
  {
   "cell_type": "code",
   "execution_count": 15,
   "metadata": {},
   "outputs": [],
   "source": [
    "y = spc.Coords([[3,0,0],[2,0,0]], 'GEO', 'car')"
   ]
  },
  {
   "cell_type": "code",
   "execution_count": 45,
   "metadata": {},
   "outputs": [
    {
     "data": {
      "text/plain": [
       "{'Blocal': array([ 978.62167212, 3399.44983792]),\n",
       " 'Bvec': array([[ 6.80527041e-01, -1.65581187e+02,  9.64511682e+02],\n",
       "        [ 3.35024964e+02, -5.42764103e+02,  3.33907541e+03]])}"
      ]
     },
     "execution_count": 45,
     "metadata": {},
     "output_type": "execute_result"
    }
   ],
   "source": [
    "ib.get_Bfield(t,y)"
   ]
  },
  {
   "cell_type": "code",
   "execution_count": 39,
   "metadata": {},
   "outputs": [],
   "source": []
  },
  {
   "cell_type": "code",
   "execution_count": 40,
   "metadata": {},
   "outputs": [],
   "source": [
    "r = rb.RBmodel()"
   ]
  },
  {
   "cell_type": "code",
   "execution_count": 41,
   "metadata": {},
   "outputs": [],
   "source": [
    "starttime = dt.datetime(2003,10,20)\n",
    "endtime = dt.datetime(2003,12,5)\n",
    "delta = dt.timedelta(minutes=60)\n",
    "r.setup_ticks(starttime, endtime, delta, dtype='UTC')"
   ]
  },
  {
   "cell_type": "code",
   "execution_count": 42,
   "metadata": {},
   "outputs": [],
   "source": [
    "r.evolve()"
   ]
  },
  {
   "cell_type": "code",
   "execution_count": null,
   "metadata": {},
   "outputs": [],
   "source": []
  }
 ],
 "metadata": {
  "interpreter": {
   "hash": "e7370f93d1d0cde622a1f8e1c04877d8463912d04d973331ad4851f04de6915a"
  },
  "kernelspec": {
   "display_name": "Python 3.10.2 64-bit",
   "language": "python",
   "name": "python3"
  },
  "language_info": {
   "codemirror_mode": {
    "name": "ipython",
    "version": 3
   },
   "file_extension": ".py",
   "mimetype": "text/x-python",
   "name": "python",
   "nbconvert_exporter": "python",
   "pygments_lexer": "ipython3",
   "version": "3.10.2"
  },
  "orig_nbformat": 4
 },
 "nbformat": 4,
 "nbformat_minor": 2
}
